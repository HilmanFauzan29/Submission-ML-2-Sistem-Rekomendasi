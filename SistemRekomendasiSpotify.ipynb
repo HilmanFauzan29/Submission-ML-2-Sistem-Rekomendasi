{
  "nbformat": 4,
  "nbformat_minor": 0,
  "metadata": {
    "colab": {
      "provenance": []
    },
    "kernelspec": {
      "name": "python3",
      "display_name": "Python 3"
    },
    "language_info": {
      "name": "python"
    }
  },
  "cells": [
    {
      "cell_type": "markdown",
      "source": [
        "## Proyek Sistem Rekomendasi Musik Spotify\n",
        "- Nama  : Hilman Fauzan\n",
        "- Email : hilmanfauzan462@gmail.com"
      ],
      "metadata": {
        "id": "Xu2hzIUAyQbC"
      }
    },
    {
      "cell_type": "markdown",
      "source": [
        "## Import Library"
      ],
      "metadata": {
        "id": "u0SrYiThykCX"
      }
    },
    {
      "cell_type": "code",
      "source": [
        "import pandas as pd\n",
        "import numpy as np\n",
        "from sklearn.feature_extraction.text import TfidfVectorizer\n",
        "from sklearn.preprocessing import StandardScaler\n",
        "from sklearn.metrics.pairwise import cosine_similarity\n",
        "from scipy.sparse import hstack\n",
        "import sys\n",
        "import matplotlib.pyplot as plt\n",
        "import seaborn as sns"
      ],
      "metadata": {
        "id": "6P7_gAgnywuF"
      },
      "execution_count": null,
      "outputs": []
    },
    {
      "cell_type": "markdown",
      "source": [
        "Dalam submission ini, library yang dipakai yaitu:\n",
        "- pandas dan numpy sebagai fondasi untuk manipulasi data tabular dan komputasi numerik.\n",
        "- sklearn, TfidfVectorizer digunakan untuk mengubah data tekstual seperti nama lagu dan genre menjadi format numerik.\n",
        "- StandardScaler digunakan untuk menskalakan fitur numerik audio agar seragam.\n",
        "- cosine_similarity digunakan untuk menghitung kemiripan antar lagu berdasarkan fitur-fitur tersebut. Hal ini merupakan sebuah inti dari sistem Content-based.\n",
        "- scipy.sparse.hstack digunakan untuk menggabungkan representasi fitur tekstual yang efisien (sparse) dengan fitur numerik.\n",
        "- matplotlib.pyplot dan seaborn adalah alat visualisasi data yang penting untuk mengeksplorasi dan memahami karakteristik dataset.\n",
        "- sys menyediakan fungsi interaksi sistem dasar seperti menangani keluar dari program saat error."
      ],
      "metadata": {
        "id": "lkVfR3t2tOMZ"
      }
    },
    {
      "cell_type": "markdown",
      "source": [
        "## Data Understanding"
      ],
      "metadata": {
        "id": "jRIy0OfBym3P"
      }
    },
    {
      "cell_type": "code",
      "source": [
        "# Data Load\n",
        "file_path_high_pop = \"high_popularity_spotify_data.csv\"\n",
        "file_path_low_pop = \"low_popularity_spotify_data.csv\"\n",
        "\n",
        "df_high_pop = pd.read_csv(file_path_high_pop)\n",
        "df_low_pop = pd.read_csv(file_path_low_pop)\n",
        "\n",
        "if list(df_high_pop.columns) != list(df_low_pop.columns):\n",
        "    print(\"\\nNama kolom diantara kedua file tidak sama percis.\")"
      ],
      "metadata": {
        "colab": {
          "base_uri": "https://localhost:8080/"
        },
        "id": "Ai0BAcoX5qoR",
        "outputId": "a0fc30d4-8f2d-4faf-9fed-ce78b44f1dd6"
      },
      "execution_count": null,
      "outputs": [
        {
          "output_type": "stream",
          "name": "stdout",
          "text": [
            "\n",
            "Nama kolom diantara kedua file tidak sama percis.\n"
          ]
        }
      ]
    },
    {
      "cell_type": "markdown",
      "source": [
        "Dataset diambil dari 2 file yaitu high_popularity_spotify_data.csv dan low_popularity_spotify_data.csv. Kode paling bawah digunakan untuk mengecek kesamaan kolom diantara 2 file, dan kedua file tersebut memiliki nama kolom yang tidak percis atau urutannya berbeda."
      ],
      "metadata": {
        "id": "BNx7mO_uuVCf"
      }
    },
    {
      "cell_type": "markdown",
      "source": [
        "**Pengecekan Dataset High Popularity**"
      ],
      "metadata": {
        "id": "TxqFsfX08N25"
      }
    },
    {
      "cell_type": "code",
      "source": [
        "print(\"5 Data awal dari high_popularity\")\n",
        "df_high_pop.head()"
      ],
      "metadata": {
        "colab": {
          "base_uri": "https://localhost:8080/",
          "height": 342
        },
        "id": "CBv8XJ7Q7jwW",
        "outputId": "d7a272fb-fcf9-4498-bc2d-ca508d48732b"
      },
      "execution_count": null,
      "outputs": [
        {
          "output_type": "stream",
          "name": "stdout",
          "text": [
            "5 Data awal dari high_popularity\n"
          ]
        },
        {
          "output_type": "execute_result",
          "data": {
            "text/plain": [
              "   energy    tempo  danceability playlist_genre  loudness  liveness  valence  \\\n",
              "0   0.592  157.969         0.521            pop    -7.777     0.122    0.535   \n",
              "1   0.507  104.978         0.747            pop   -10.171     0.117    0.438   \n",
              "2   0.808  108.548         0.554            pop    -4.169     0.159    0.372   \n",
              "3   0.910  112.966         0.670            pop    -4.070     0.304    0.786   \n",
              "4   0.783  149.027         0.777            pop    -4.477     0.355    0.939   \n",
              "\n",
              "            track_artist  time_signature  speechiness  ...  instrumentalness  \\\n",
              "0  Lady Gaga, Bruno Mars               3       0.0304  ...            0.0000   \n",
              "1          Billie Eilish               4       0.0358  ...            0.0608   \n",
              "2          Gracie Abrams               4       0.0368  ...            0.0000   \n",
              "3      Sabrina Carpenter               4       0.0634  ...            0.0000   \n",
              "4       ROSÉ, Bruno Mars               4       0.2600  ...            0.0000   \n",
              "\n",
              "           track_album_id mode key duration_ms acousticness  \\\n",
              "0  10FLjwfpbxLmW8c25Xyc2N    0   6      251668       0.3080   \n",
              "1  7aJuG4TFXa2hmE4z1yxc3n    1   2      210373       0.2000   \n",
              "2  0hBRqPYPXhr1RkTDG3n4Mk    1   1      166300       0.2140   \n",
              "3  4B4Elma4nNDUyl6D5PvQkj    0   0      157280       0.0939   \n",
              "4  2IYQwwgxgOIn7t3iF6ufFD    0   0      169917       0.0283   \n",
              "\n",
              "                       id playlist_subgenre            type  \\\n",
              "0  2plbrEY59IikOBgBGLjaoe        mainstream  audio_features   \n",
              "1  6dOtVTDdiauQNBQEDOtlAB        mainstream  audio_features   \n",
              "2  7ne4VBA60CxGM75vw0EYad        mainstream  audio_features   \n",
              "3  1d7Ptw3qYcfpdLNL5REhtJ        mainstream  audio_features   \n",
              "4  5vNRhkKd0yEAg8suGBpjeY        mainstream  audio_features   \n",
              "\n",
              "              playlist_id  \n",
              "0  37i9dQZF1DXcBWIGoYBM5M  \n",
              "1  37i9dQZF1DXcBWIGoYBM5M  \n",
              "2  37i9dQZF1DXcBWIGoYBM5M  \n",
              "3  37i9dQZF1DXcBWIGoYBM5M  \n",
              "4  37i9dQZF1DXcBWIGoYBM5M  \n",
              "\n",
              "[5 rows x 29 columns]"
            ],
            "text/html": [
              "\n",
              "  <div id=\"df-ece68607-466b-4b01-9400-632bd1ca42b1\" class=\"colab-df-container\">\n",
              "    <div>\n",
              "<style scoped>\n",
              "    .dataframe tbody tr th:only-of-type {\n",
              "        vertical-align: middle;\n",
              "    }\n",
              "\n",
              "    .dataframe tbody tr th {\n",
              "        vertical-align: top;\n",
              "    }\n",
              "\n",
              "    .dataframe thead th {\n",
              "        text-align: right;\n",
              "    }\n",
              "</style>\n",
              "<table border=\"1\" class=\"dataframe\">\n",
              "  <thead>\n",
              "    <tr style=\"text-align: right;\">\n",
              "      <th></th>\n",
              "      <th>energy</th>\n",
              "      <th>tempo</th>\n",
              "      <th>danceability</th>\n",
              "      <th>playlist_genre</th>\n",
              "      <th>loudness</th>\n",
              "      <th>liveness</th>\n",
              "      <th>valence</th>\n",
              "      <th>track_artist</th>\n",
              "      <th>time_signature</th>\n",
              "      <th>speechiness</th>\n",
              "      <th>...</th>\n",
              "      <th>instrumentalness</th>\n",
              "      <th>track_album_id</th>\n",
              "      <th>mode</th>\n",
              "      <th>key</th>\n",
              "      <th>duration_ms</th>\n",
              "      <th>acousticness</th>\n",
              "      <th>id</th>\n",
              "      <th>playlist_subgenre</th>\n",
              "      <th>type</th>\n",
              "      <th>playlist_id</th>\n",
              "    </tr>\n",
              "  </thead>\n",
              "  <tbody>\n",
              "    <tr>\n",
              "      <th>0</th>\n",
              "      <td>0.592</td>\n",
              "      <td>157.969</td>\n",
              "      <td>0.521</td>\n",
              "      <td>pop</td>\n",
              "      <td>-7.777</td>\n",
              "      <td>0.122</td>\n",
              "      <td>0.535</td>\n",
              "      <td>Lady Gaga, Bruno Mars</td>\n",
              "      <td>3</td>\n",
              "      <td>0.0304</td>\n",
              "      <td>...</td>\n",
              "      <td>0.0000</td>\n",
              "      <td>10FLjwfpbxLmW8c25Xyc2N</td>\n",
              "      <td>0</td>\n",
              "      <td>6</td>\n",
              "      <td>251668</td>\n",
              "      <td>0.3080</td>\n",
              "      <td>2plbrEY59IikOBgBGLjaoe</td>\n",
              "      <td>mainstream</td>\n",
              "      <td>audio_features</td>\n",
              "      <td>37i9dQZF1DXcBWIGoYBM5M</td>\n",
              "    </tr>\n",
              "    <tr>\n",
              "      <th>1</th>\n",
              "      <td>0.507</td>\n",
              "      <td>104.978</td>\n",
              "      <td>0.747</td>\n",
              "      <td>pop</td>\n",
              "      <td>-10.171</td>\n",
              "      <td>0.117</td>\n",
              "      <td>0.438</td>\n",
              "      <td>Billie Eilish</td>\n",
              "      <td>4</td>\n",
              "      <td>0.0358</td>\n",
              "      <td>...</td>\n",
              "      <td>0.0608</td>\n",
              "      <td>7aJuG4TFXa2hmE4z1yxc3n</td>\n",
              "      <td>1</td>\n",
              "      <td>2</td>\n",
              "      <td>210373</td>\n",
              "      <td>0.2000</td>\n",
              "      <td>6dOtVTDdiauQNBQEDOtlAB</td>\n",
              "      <td>mainstream</td>\n",
              "      <td>audio_features</td>\n",
              "      <td>37i9dQZF1DXcBWIGoYBM5M</td>\n",
              "    </tr>\n",
              "    <tr>\n",
              "      <th>2</th>\n",
              "      <td>0.808</td>\n",
              "      <td>108.548</td>\n",
              "      <td>0.554</td>\n",
              "      <td>pop</td>\n",
              "      <td>-4.169</td>\n",
              "      <td>0.159</td>\n",
              "      <td>0.372</td>\n",
              "      <td>Gracie Abrams</td>\n",
              "      <td>4</td>\n",
              "      <td>0.0368</td>\n",
              "      <td>...</td>\n",
              "      <td>0.0000</td>\n",
              "      <td>0hBRqPYPXhr1RkTDG3n4Mk</td>\n",
              "      <td>1</td>\n",
              "      <td>1</td>\n",
              "      <td>166300</td>\n",
              "      <td>0.2140</td>\n",
              "      <td>7ne4VBA60CxGM75vw0EYad</td>\n",
              "      <td>mainstream</td>\n",
              "      <td>audio_features</td>\n",
              "      <td>37i9dQZF1DXcBWIGoYBM5M</td>\n",
              "    </tr>\n",
              "    <tr>\n",
              "      <th>3</th>\n",
              "      <td>0.910</td>\n",
              "      <td>112.966</td>\n",
              "      <td>0.670</td>\n",
              "      <td>pop</td>\n",
              "      <td>-4.070</td>\n",
              "      <td>0.304</td>\n",
              "      <td>0.786</td>\n",
              "      <td>Sabrina Carpenter</td>\n",
              "      <td>4</td>\n",
              "      <td>0.0634</td>\n",
              "      <td>...</td>\n",
              "      <td>0.0000</td>\n",
              "      <td>4B4Elma4nNDUyl6D5PvQkj</td>\n",
              "      <td>0</td>\n",
              "      <td>0</td>\n",
              "      <td>157280</td>\n",
              "      <td>0.0939</td>\n",
              "      <td>1d7Ptw3qYcfpdLNL5REhtJ</td>\n",
              "      <td>mainstream</td>\n",
              "      <td>audio_features</td>\n",
              "      <td>37i9dQZF1DXcBWIGoYBM5M</td>\n",
              "    </tr>\n",
              "    <tr>\n",
              "      <th>4</th>\n",
              "      <td>0.783</td>\n",
              "      <td>149.027</td>\n",
              "      <td>0.777</td>\n",
              "      <td>pop</td>\n",
              "      <td>-4.477</td>\n",
              "      <td>0.355</td>\n",
              "      <td>0.939</td>\n",
              "      <td>ROSÉ, Bruno Mars</td>\n",
              "      <td>4</td>\n",
              "      <td>0.2600</td>\n",
              "      <td>...</td>\n",
              "      <td>0.0000</td>\n",
              "      <td>2IYQwwgxgOIn7t3iF6ufFD</td>\n",
              "      <td>0</td>\n",
              "      <td>0</td>\n",
              "      <td>169917</td>\n",
              "      <td>0.0283</td>\n",
              "      <td>5vNRhkKd0yEAg8suGBpjeY</td>\n",
              "      <td>mainstream</td>\n",
              "      <td>audio_features</td>\n",
              "      <td>37i9dQZF1DXcBWIGoYBM5M</td>\n",
              "    </tr>\n",
              "  </tbody>\n",
              "</table>\n",
              "<p>5 rows × 29 columns</p>\n",
              "</div>\n",
              "    <div class=\"colab-df-buttons\">\n",
              "\n",
              "  <div class=\"colab-df-container\">\n",
              "    <button class=\"colab-df-convert\" onclick=\"convertToInteractive('df-ece68607-466b-4b01-9400-632bd1ca42b1')\"\n",
              "            title=\"Convert this dataframe to an interactive table.\"\n",
              "            style=\"display:none;\">\n",
              "\n",
              "  <svg xmlns=\"http://www.w3.org/2000/svg\" height=\"24px\" viewBox=\"0 -960 960 960\">\n",
              "    <path d=\"M120-120v-720h720v720H120Zm60-500h600v-160H180v160Zm220 220h160v-160H400v160Zm0 220h160v-160H400v160ZM180-400h160v-160H180v160Zm440 0h160v-160H620v160ZM180-180h160v-160H180v160Zm440 0h160v-160H620v160Z\"/>\n",
              "  </svg>\n",
              "    </button>\n",
              "\n",
              "  <style>\n",
              "    .colab-df-container {\n",
              "      display:flex;\n",
              "      gap: 12px;\n",
              "    }\n",
              "\n",
              "    .colab-df-convert {\n",
              "      background-color: #E8F0FE;\n",
              "      border: none;\n",
              "      border-radius: 50%;\n",
              "      cursor: pointer;\n",
              "      display: none;\n",
              "      fill: #1967D2;\n",
              "      height: 32px;\n",
              "      padding: 0 0 0 0;\n",
              "      width: 32px;\n",
              "    }\n",
              "\n",
              "    .colab-df-convert:hover {\n",
              "      background-color: #E2EBFA;\n",
              "      box-shadow: 0px 1px 2px rgba(60, 64, 67, 0.3), 0px 1px 3px 1px rgba(60, 64, 67, 0.15);\n",
              "      fill: #174EA6;\n",
              "    }\n",
              "\n",
              "    .colab-df-buttons div {\n",
              "      margin-bottom: 4px;\n",
              "    }\n",
              "\n",
              "    [theme=dark] .colab-df-convert {\n",
              "      background-color: #3B4455;\n",
              "      fill: #D2E3FC;\n",
              "    }\n",
              "\n",
              "    [theme=dark] .colab-df-convert:hover {\n",
              "      background-color: #434B5C;\n",
              "      box-shadow: 0px 1px 3px 1px rgba(0, 0, 0, 0.15);\n",
              "      filter: drop-shadow(0px 1px 2px rgba(0, 0, 0, 0.3));\n",
              "      fill: #FFFFFF;\n",
              "    }\n",
              "  </style>\n",
              "\n",
              "    <script>\n",
              "      const buttonEl =\n",
              "        document.querySelector('#df-ece68607-466b-4b01-9400-632bd1ca42b1 button.colab-df-convert');\n",
              "      buttonEl.style.display =\n",
              "        google.colab.kernel.accessAllowed ? 'block' : 'none';\n",
              "\n",
              "      async function convertToInteractive(key) {\n",
              "        const element = document.querySelector('#df-ece68607-466b-4b01-9400-632bd1ca42b1');\n",
              "        const dataTable =\n",
              "          await google.colab.kernel.invokeFunction('convertToInteractive',\n",
              "                                                    [key], {});\n",
              "        if (!dataTable) return;\n",
              "\n",
              "        const docLinkHtml = 'Like what you see? Visit the ' +\n",
              "          '<a target=\"_blank\" href=https://colab.research.google.com/notebooks/data_table.ipynb>data table notebook</a>'\n",
              "          + ' to learn more about interactive tables.';\n",
              "        element.innerHTML = '';\n",
              "        dataTable['output_type'] = 'display_data';\n",
              "        await google.colab.output.renderOutput(dataTable, element);\n",
              "        const docLink = document.createElement('div');\n",
              "        docLink.innerHTML = docLinkHtml;\n",
              "        element.appendChild(docLink);\n",
              "      }\n",
              "    </script>\n",
              "  </div>\n",
              "\n",
              "\n",
              "    <div id=\"df-982f4095-2b7d-4d32-9d12-ff00725cfbbc\">\n",
              "      <button class=\"colab-df-quickchart\" onclick=\"quickchart('df-982f4095-2b7d-4d32-9d12-ff00725cfbbc')\"\n",
              "                title=\"Suggest charts\"\n",
              "                style=\"display:none;\">\n",
              "\n",
              "<svg xmlns=\"http://www.w3.org/2000/svg\" height=\"24px\"viewBox=\"0 0 24 24\"\n",
              "     width=\"24px\">\n",
              "    <g>\n",
              "        <path d=\"M19 3H5c-1.1 0-2 .9-2 2v14c0 1.1.9 2 2 2h14c1.1 0 2-.9 2-2V5c0-1.1-.9-2-2-2zM9 17H7v-7h2v7zm4 0h-2V7h2v10zm4 0h-2v-4h2v4z\"/>\n",
              "    </g>\n",
              "</svg>\n",
              "      </button>\n",
              "\n",
              "<style>\n",
              "  .colab-df-quickchart {\n",
              "      --bg-color: #E8F0FE;\n",
              "      --fill-color: #1967D2;\n",
              "      --hover-bg-color: #E2EBFA;\n",
              "      --hover-fill-color: #174EA6;\n",
              "      --disabled-fill-color: #AAA;\n",
              "      --disabled-bg-color: #DDD;\n",
              "  }\n",
              "\n",
              "  [theme=dark] .colab-df-quickchart {\n",
              "      --bg-color: #3B4455;\n",
              "      --fill-color: #D2E3FC;\n",
              "      --hover-bg-color: #434B5C;\n",
              "      --hover-fill-color: #FFFFFF;\n",
              "      --disabled-bg-color: #3B4455;\n",
              "      --disabled-fill-color: #666;\n",
              "  }\n",
              "\n",
              "  .colab-df-quickchart {\n",
              "    background-color: var(--bg-color);\n",
              "    border: none;\n",
              "    border-radius: 50%;\n",
              "    cursor: pointer;\n",
              "    display: none;\n",
              "    fill: var(--fill-color);\n",
              "    height: 32px;\n",
              "    padding: 0;\n",
              "    width: 32px;\n",
              "  }\n",
              "\n",
              "  .colab-df-quickchart:hover {\n",
              "    background-color: var(--hover-bg-color);\n",
              "    box-shadow: 0 1px 2px rgba(60, 64, 67, 0.3), 0 1px 3px 1px rgba(60, 64, 67, 0.15);\n",
              "    fill: var(--button-hover-fill-color);\n",
              "  }\n",
              "\n",
              "  .colab-df-quickchart-complete:disabled,\n",
              "  .colab-df-quickchart-complete:disabled:hover {\n",
              "    background-color: var(--disabled-bg-color);\n",
              "    fill: var(--disabled-fill-color);\n",
              "    box-shadow: none;\n",
              "  }\n",
              "\n",
              "  .colab-df-spinner {\n",
              "    border: 2px solid var(--fill-color);\n",
              "    border-color: transparent;\n",
              "    border-bottom-color: var(--fill-color);\n",
              "    animation:\n",
              "      spin 1s steps(1) infinite;\n",
              "  }\n",
              "\n",
              "  @keyframes spin {\n",
              "    0% {\n",
              "      border-color: transparent;\n",
              "      border-bottom-color: var(--fill-color);\n",
              "      border-left-color: var(--fill-color);\n",
              "    }\n",
              "    20% {\n",
              "      border-color: transparent;\n",
              "      border-left-color: var(--fill-color);\n",
              "      border-top-color: var(--fill-color);\n",
              "    }\n",
              "    30% {\n",
              "      border-color: transparent;\n",
              "      border-left-color: var(--fill-color);\n",
              "      border-top-color: var(--fill-color);\n",
              "      border-right-color: var(--fill-color);\n",
              "    }\n",
              "    40% {\n",
              "      border-color: transparent;\n",
              "      border-right-color: var(--fill-color);\n",
              "      border-top-color: var(--fill-color);\n",
              "    }\n",
              "    60% {\n",
              "      border-color: transparent;\n",
              "      border-right-color: var(--fill-color);\n",
              "    }\n",
              "    80% {\n",
              "      border-color: transparent;\n",
              "      border-right-color: var(--fill-color);\n",
              "      border-bottom-color: var(--fill-color);\n",
              "    }\n",
              "    90% {\n",
              "      border-color: transparent;\n",
              "      border-bottom-color: var(--fill-color);\n",
              "    }\n",
              "  }\n",
              "</style>\n",
              "\n",
              "      <script>\n",
              "        async function quickchart(key) {\n",
              "          const quickchartButtonEl =\n",
              "            document.querySelector('#' + key + ' button');\n",
              "          quickchartButtonEl.disabled = true;  // To prevent multiple clicks.\n",
              "          quickchartButtonEl.classList.add('colab-df-spinner');\n",
              "          try {\n",
              "            const charts = await google.colab.kernel.invokeFunction(\n",
              "                'suggestCharts', [key], {});\n",
              "          } catch (error) {\n",
              "            console.error('Error during call to suggestCharts:', error);\n",
              "          }\n",
              "          quickchartButtonEl.classList.remove('colab-df-spinner');\n",
              "          quickchartButtonEl.classList.add('colab-df-quickchart-complete');\n",
              "        }\n",
              "        (() => {\n",
              "          let quickchartButtonEl =\n",
              "            document.querySelector('#df-982f4095-2b7d-4d32-9d12-ff00725cfbbc button');\n",
              "          quickchartButtonEl.style.display =\n",
              "            google.colab.kernel.accessAllowed ? 'block' : 'none';\n",
              "        })();\n",
              "      </script>\n",
              "    </div>\n",
              "\n",
              "    </div>\n",
              "  </div>\n"
            ],
            "application/vnd.google.colaboratory.intrinsic+json": {
              "type": "dataframe",
              "variable_name": "df_high_pop"
            }
          },
          "metadata": {},
          "execution_count": 3
        }
      ]
    },
    {
      "cell_type": "markdown",
      "source": [
        "Kode diatas menampilkan 5 baris teratas dari data set high_popularity_spotify_data.csv"
      ],
      "metadata": {
        "id": "VxZPrLgwupFb"
      }
    },
    {
      "cell_type": "code",
      "source": [
        "print(\"Tipe Data dari high_popularity\")\n",
        "df_high_pop.info()"
      ],
      "metadata": {
        "colab": {
          "base_uri": "https://localhost:8080/"
        },
        "id": "MCgs0XeP8qFk",
        "outputId": "26227dd2-354e-49b0-89c7-d38d2b050fd0"
      },
      "execution_count": null,
      "outputs": [
        {
          "output_type": "stream",
          "name": "stdout",
          "text": [
            "Tipe Data dari high_popularity\n",
            "<class 'pandas.core.frame.DataFrame'>\n",
            "RangeIndex: 1686 entries, 0 to 1685\n",
            "Data columns (total 29 columns):\n",
            " #   Column                    Non-Null Count  Dtype  \n",
            "---  ------                    --------------  -----  \n",
            " 0   energy                    1686 non-null   float64\n",
            " 1   tempo                     1686 non-null   float64\n",
            " 2   danceability              1686 non-null   float64\n",
            " 3   playlist_genre            1686 non-null   object \n",
            " 4   loudness                  1686 non-null   float64\n",
            " 5   liveness                  1686 non-null   float64\n",
            " 6   valence                   1686 non-null   float64\n",
            " 7   track_artist              1686 non-null   object \n",
            " 8   time_signature            1686 non-null   int64  \n",
            " 9   speechiness               1686 non-null   float64\n",
            " 10  track_popularity          1686 non-null   int64  \n",
            " 11  track_href                1686 non-null   object \n",
            " 12  uri                       1686 non-null   object \n",
            " 13  track_album_name          1685 non-null   object \n",
            " 14  playlist_name             1686 non-null   object \n",
            " 15  analysis_url              1686 non-null   object \n",
            " 16  track_id                  1686 non-null   object \n",
            " 17  track_name                1686 non-null   object \n",
            " 18  track_album_release_date  1686 non-null   object \n",
            " 19  instrumentalness          1686 non-null   float64\n",
            " 20  track_album_id            1686 non-null   object \n",
            " 21  mode                      1686 non-null   int64  \n",
            " 22  key                       1686 non-null   int64  \n",
            " 23  duration_ms               1686 non-null   int64  \n",
            " 24  acousticness              1686 non-null   float64\n",
            " 25  id                        1686 non-null   object \n",
            " 26  playlist_subgenre         1686 non-null   object \n",
            " 27  type                      1686 non-null   object \n",
            " 28  playlist_id               1686 non-null   object \n",
            "dtypes: float64(9), int64(5), object(15)\n",
            "memory usage: 382.1+ KB\n"
          ]
        }
      ]
    },
    {
      "cell_type": "markdown",
      "source": [
        "Dataset memiliki 29 kolom atau fitur yang bertipe float64 sebanyak 9 kolom, integer 5 kolom, dan object sebanyak 15 kolom."
      ],
      "metadata": {
        "id": "y3VJYkZAu01q"
      }
    },
    {
      "cell_type": "code",
      "source": [
        "# Statistik\n",
        "print(\"Deskripsi Statitik Data dari high_popularity\")\n",
        "df_high_pop.describe()"
      ],
      "metadata": {
        "colab": {
          "base_uri": "https://localhost:8080/",
          "height": 337
        },
        "id": "5DhE2Hwz87iq",
        "outputId": "21c3928a-3ef3-412c-98c1-682cdcb7dc14"
      },
      "execution_count": null,
      "outputs": [
        {
          "output_type": "stream",
          "name": "stdout",
          "text": [
            "Deskripsi Statitik Data dari high_popularity\n"
          ]
        },
        {
          "output_type": "execute_result",
          "data": {
            "text/plain": [
              "            energy        tempo  danceability     loudness     liveness  \\\n",
              "count  1686.000000  1686.000000   1686.000000  1686.000000  1686.000000   \n",
              "mean      0.667216   121.070938      0.650362    -6.704131     0.171579   \n",
              "std       0.184908    27.066029      0.157721     3.377068     0.123953   \n",
              "min       0.001610    49.305000      0.136000   -43.643000     0.021000   \n",
              "25%       0.551000   100.058750      0.543250    -7.950250     0.093400   \n",
              "50%       0.689000   120.001000      0.664500    -5.974500     0.121000   \n",
              "75%       0.807000   136.833500      0.769000    -4.687250     0.210000   \n",
              "max       0.990000   209.688000      0.979000     1.295000     0.950000   \n",
              "\n",
              "           valence  time_signature  speechiness  track_popularity  \\\n",
              "count  1686.000000     1686.000000  1686.000000       1686.000000   \n",
              "mean      0.525737        3.950178     0.100926         75.806050   \n",
              "std       0.236113        0.326673     0.099748          6.032532   \n",
              "min       0.034800        1.000000     0.023200         68.000000   \n",
              "25%       0.339000        4.000000     0.037900         71.000000   \n",
              "50%       0.528000        4.000000     0.058100         75.000000   \n",
              "75%       0.720000        4.000000     0.118000         79.000000   \n",
              "max       0.978000        5.000000     0.848000        100.000000   \n",
              "\n",
              "       instrumentalness         mode          key    duration_ms  acousticness  \n",
              "count       1686.000000  1686.000000  1686.000000    1686.000000   1686.000000  \n",
              "mean           0.041520     0.578292     5.338078  214562.125741      0.221220  \n",
              "std            0.156556     0.493979     3.608208   58310.747929      0.250593  \n",
              "min            0.000000     0.000000     0.000000   61673.000000      0.000013  \n",
              "25%            0.000000     0.000000     2.000000  176607.750000      0.023050  \n",
              "50%            0.000006     1.000000     5.000000  211180.000000      0.124000  \n",
              "75%            0.000814     1.000000     8.000000  244993.250000      0.334750  \n",
              "max            0.971000     1.000000    11.000000  547107.000000      0.995000  "
            ],
            "text/html": [
              "\n",
              "  <div id=\"df-72d09512-5027-4e01-af1b-a0b55f5c119d\" class=\"colab-df-container\">\n",
              "    <div>\n",
              "<style scoped>\n",
              "    .dataframe tbody tr th:only-of-type {\n",
              "        vertical-align: middle;\n",
              "    }\n",
              "\n",
              "    .dataframe tbody tr th {\n",
              "        vertical-align: top;\n",
              "    }\n",
              "\n",
              "    .dataframe thead th {\n",
              "        text-align: right;\n",
              "    }\n",
              "</style>\n",
              "<table border=\"1\" class=\"dataframe\">\n",
              "  <thead>\n",
              "    <tr style=\"text-align: right;\">\n",
              "      <th></th>\n",
              "      <th>energy</th>\n",
              "      <th>tempo</th>\n",
              "      <th>danceability</th>\n",
              "      <th>loudness</th>\n",
              "      <th>liveness</th>\n",
              "      <th>valence</th>\n",
              "      <th>time_signature</th>\n",
              "      <th>speechiness</th>\n",
              "      <th>track_popularity</th>\n",
              "      <th>instrumentalness</th>\n",
              "      <th>mode</th>\n",
              "      <th>key</th>\n",
              "      <th>duration_ms</th>\n",
              "      <th>acousticness</th>\n",
              "    </tr>\n",
              "  </thead>\n",
              "  <tbody>\n",
              "    <tr>\n",
              "      <th>count</th>\n",
              "      <td>1686.000000</td>\n",
              "      <td>1686.000000</td>\n",
              "      <td>1686.000000</td>\n",
              "      <td>1686.000000</td>\n",
              "      <td>1686.000000</td>\n",
              "      <td>1686.000000</td>\n",
              "      <td>1686.000000</td>\n",
              "      <td>1686.000000</td>\n",
              "      <td>1686.000000</td>\n",
              "      <td>1686.000000</td>\n",
              "      <td>1686.000000</td>\n",
              "      <td>1686.000000</td>\n",
              "      <td>1686.000000</td>\n",
              "      <td>1686.000000</td>\n",
              "    </tr>\n",
              "    <tr>\n",
              "      <th>mean</th>\n",
              "      <td>0.667216</td>\n",
              "      <td>121.070938</td>\n",
              "      <td>0.650362</td>\n",
              "      <td>-6.704131</td>\n",
              "      <td>0.171579</td>\n",
              "      <td>0.525737</td>\n",
              "      <td>3.950178</td>\n",
              "      <td>0.100926</td>\n",
              "      <td>75.806050</td>\n",
              "      <td>0.041520</td>\n",
              "      <td>0.578292</td>\n",
              "      <td>5.338078</td>\n",
              "      <td>214562.125741</td>\n",
              "      <td>0.221220</td>\n",
              "    </tr>\n",
              "    <tr>\n",
              "      <th>std</th>\n",
              "      <td>0.184908</td>\n",
              "      <td>27.066029</td>\n",
              "      <td>0.157721</td>\n",
              "      <td>3.377068</td>\n",
              "      <td>0.123953</td>\n",
              "      <td>0.236113</td>\n",
              "      <td>0.326673</td>\n",
              "      <td>0.099748</td>\n",
              "      <td>6.032532</td>\n",
              "      <td>0.156556</td>\n",
              "      <td>0.493979</td>\n",
              "      <td>3.608208</td>\n",
              "      <td>58310.747929</td>\n",
              "      <td>0.250593</td>\n",
              "    </tr>\n",
              "    <tr>\n",
              "      <th>min</th>\n",
              "      <td>0.001610</td>\n",
              "      <td>49.305000</td>\n",
              "      <td>0.136000</td>\n",
              "      <td>-43.643000</td>\n",
              "      <td>0.021000</td>\n",
              "      <td>0.034800</td>\n",
              "      <td>1.000000</td>\n",
              "      <td>0.023200</td>\n",
              "      <td>68.000000</td>\n",
              "      <td>0.000000</td>\n",
              "      <td>0.000000</td>\n",
              "      <td>0.000000</td>\n",
              "      <td>61673.000000</td>\n",
              "      <td>0.000013</td>\n",
              "    </tr>\n",
              "    <tr>\n",
              "      <th>25%</th>\n",
              "      <td>0.551000</td>\n",
              "      <td>100.058750</td>\n",
              "      <td>0.543250</td>\n",
              "      <td>-7.950250</td>\n",
              "      <td>0.093400</td>\n",
              "      <td>0.339000</td>\n",
              "      <td>4.000000</td>\n",
              "      <td>0.037900</td>\n",
              "      <td>71.000000</td>\n",
              "      <td>0.000000</td>\n",
              "      <td>0.000000</td>\n",
              "      <td>2.000000</td>\n",
              "      <td>176607.750000</td>\n",
              "      <td>0.023050</td>\n",
              "    </tr>\n",
              "    <tr>\n",
              "      <th>50%</th>\n",
              "      <td>0.689000</td>\n",
              "      <td>120.001000</td>\n",
              "      <td>0.664500</td>\n",
              "      <td>-5.974500</td>\n",
              "      <td>0.121000</td>\n",
              "      <td>0.528000</td>\n",
              "      <td>4.000000</td>\n",
              "      <td>0.058100</td>\n",
              "      <td>75.000000</td>\n",
              "      <td>0.000006</td>\n",
              "      <td>1.000000</td>\n",
              "      <td>5.000000</td>\n",
              "      <td>211180.000000</td>\n",
              "      <td>0.124000</td>\n",
              "    </tr>\n",
              "    <tr>\n",
              "      <th>75%</th>\n",
              "      <td>0.807000</td>\n",
              "      <td>136.833500</td>\n",
              "      <td>0.769000</td>\n",
              "      <td>-4.687250</td>\n",
              "      <td>0.210000</td>\n",
              "      <td>0.720000</td>\n",
              "      <td>4.000000</td>\n",
              "      <td>0.118000</td>\n",
              "      <td>79.000000</td>\n",
              "      <td>0.000814</td>\n",
              "      <td>1.000000</td>\n",
              "      <td>8.000000</td>\n",
              "      <td>244993.250000</td>\n",
              "      <td>0.334750</td>\n",
              "    </tr>\n",
              "    <tr>\n",
              "      <th>max</th>\n",
              "      <td>0.990000</td>\n",
              "      <td>209.688000</td>\n",
              "      <td>0.979000</td>\n",
              "      <td>1.295000</td>\n",
              "      <td>0.950000</td>\n",
              "      <td>0.978000</td>\n",
              "      <td>5.000000</td>\n",
              "      <td>0.848000</td>\n",
              "      <td>100.000000</td>\n",
              "      <td>0.971000</td>\n",
              "      <td>1.000000</td>\n",
              "      <td>11.000000</td>\n",
              "      <td>547107.000000</td>\n",
              "      <td>0.995000</td>\n",
              "    </tr>\n",
              "  </tbody>\n",
              "</table>\n",
              "</div>\n",
              "    <div class=\"colab-df-buttons\">\n",
              "\n",
              "  <div class=\"colab-df-container\">\n",
              "    <button class=\"colab-df-convert\" onclick=\"convertToInteractive('df-72d09512-5027-4e01-af1b-a0b55f5c119d')\"\n",
              "            title=\"Convert this dataframe to an interactive table.\"\n",
              "            style=\"display:none;\">\n",
              "\n",
              "  <svg xmlns=\"http://www.w3.org/2000/svg\" height=\"24px\" viewBox=\"0 -960 960 960\">\n",
              "    <path d=\"M120-120v-720h720v720H120Zm60-500h600v-160H180v160Zm220 220h160v-160H400v160Zm0 220h160v-160H400v160ZM180-400h160v-160H180v160Zm440 0h160v-160H620v160ZM180-180h160v-160H180v160Zm440 0h160v-160H620v160Z\"/>\n",
              "  </svg>\n",
              "    </button>\n",
              "\n",
              "  <style>\n",
              "    .colab-df-container {\n",
              "      display:flex;\n",
              "      gap: 12px;\n",
              "    }\n",
              "\n",
              "    .colab-df-convert {\n",
              "      background-color: #E8F0FE;\n",
              "      border: none;\n",
              "      border-radius: 50%;\n",
              "      cursor: pointer;\n",
              "      display: none;\n",
              "      fill: #1967D2;\n",
              "      height: 32px;\n",
              "      padding: 0 0 0 0;\n",
              "      width: 32px;\n",
              "    }\n",
              "\n",
              "    .colab-df-convert:hover {\n",
              "      background-color: #E2EBFA;\n",
              "      box-shadow: 0px 1px 2px rgba(60, 64, 67, 0.3), 0px 1px 3px 1px rgba(60, 64, 67, 0.15);\n",
              "      fill: #174EA6;\n",
              "    }\n",
              "\n",
              "    .colab-df-buttons div {\n",
              "      margin-bottom: 4px;\n",
              "    }\n",
              "\n",
              "    [theme=dark] .colab-df-convert {\n",
              "      background-color: #3B4455;\n",
              "      fill: #D2E3FC;\n",
              "    }\n",
              "\n",
              "    [theme=dark] .colab-df-convert:hover {\n",
              "      background-color: #434B5C;\n",
              "      box-shadow: 0px 1px 3px 1px rgba(0, 0, 0, 0.15);\n",
              "      filter: drop-shadow(0px 1px 2px rgba(0, 0, 0, 0.3));\n",
              "      fill: #FFFFFF;\n",
              "    }\n",
              "  </style>\n",
              "\n",
              "    <script>\n",
              "      const buttonEl =\n",
              "        document.querySelector('#df-72d09512-5027-4e01-af1b-a0b55f5c119d button.colab-df-convert');\n",
              "      buttonEl.style.display =\n",
              "        google.colab.kernel.accessAllowed ? 'block' : 'none';\n",
              "\n",
              "      async function convertToInteractive(key) {\n",
              "        const element = document.querySelector('#df-72d09512-5027-4e01-af1b-a0b55f5c119d');\n",
              "        const dataTable =\n",
              "          await google.colab.kernel.invokeFunction('convertToInteractive',\n",
              "                                                    [key], {});\n",
              "        if (!dataTable) return;\n",
              "\n",
              "        const docLinkHtml = 'Like what you see? Visit the ' +\n",
              "          '<a target=\"_blank\" href=https://colab.research.google.com/notebooks/data_table.ipynb>data table notebook</a>'\n",
              "          + ' to learn more about interactive tables.';\n",
              "        element.innerHTML = '';\n",
              "        dataTable['output_type'] = 'display_data';\n",
              "        await google.colab.output.renderOutput(dataTable, element);\n",
              "        const docLink = document.createElement('div');\n",
              "        docLink.innerHTML = docLinkHtml;\n",
              "        element.appendChild(docLink);\n",
              "      }\n",
              "    </script>\n",
              "  </div>\n",
              "\n",
              "\n",
              "    <div id=\"df-6ea4dcd9-a95c-4931-8370-a8a050477618\">\n",
              "      <button class=\"colab-df-quickchart\" onclick=\"quickchart('df-6ea4dcd9-a95c-4931-8370-a8a050477618')\"\n",
              "                title=\"Suggest charts\"\n",
              "                style=\"display:none;\">\n",
              "\n",
              "<svg xmlns=\"http://www.w3.org/2000/svg\" height=\"24px\"viewBox=\"0 0 24 24\"\n",
              "     width=\"24px\">\n",
              "    <g>\n",
              "        <path d=\"M19 3H5c-1.1 0-2 .9-2 2v14c0 1.1.9 2 2 2h14c1.1 0 2-.9 2-2V5c0-1.1-.9-2-2-2zM9 17H7v-7h2v7zm4 0h-2V7h2v10zm4 0h-2v-4h2v4z\"/>\n",
              "    </g>\n",
              "</svg>\n",
              "      </button>\n",
              "\n",
              "<style>\n",
              "  .colab-df-quickchart {\n",
              "      --bg-color: #E8F0FE;\n",
              "      --fill-color: #1967D2;\n",
              "      --hover-bg-color: #E2EBFA;\n",
              "      --hover-fill-color: #174EA6;\n",
              "      --disabled-fill-color: #AAA;\n",
              "      --disabled-bg-color: #DDD;\n",
              "  }\n",
              "\n",
              "  [theme=dark] .colab-df-quickchart {\n",
              "      --bg-color: #3B4455;\n",
              "      --fill-color: #D2E3FC;\n",
              "      --hover-bg-color: #434B5C;\n",
              "      --hover-fill-color: #FFFFFF;\n",
              "      --disabled-bg-color: #3B4455;\n",
              "      --disabled-fill-color: #666;\n",
              "  }\n",
              "\n",
              "  .colab-df-quickchart {\n",
              "    background-color: var(--bg-color);\n",
              "    border: none;\n",
              "    border-radius: 50%;\n",
              "    cursor: pointer;\n",
              "    display: none;\n",
              "    fill: var(--fill-color);\n",
              "    height: 32px;\n",
              "    padding: 0;\n",
              "    width: 32px;\n",
              "  }\n",
              "\n",
              "  .colab-df-quickchart:hover {\n",
              "    background-color: var(--hover-bg-color);\n",
              "    box-shadow: 0 1px 2px rgba(60, 64, 67, 0.3), 0 1px 3px 1px rgba(60, 64, 67, 0.15);\n",
              "    fill: var(--button-hover-fill-color);\n",
              "  }\n",
              "\n",
              "  .colab-df-quickchart-complete:disabled,\n",
              "  .colab-df-quickchart-complete:disabled:hover {\n",
              "    background-color: var(--disabled-bg-color);\n",
              "    fill: var(--disabled-fill-color);\n",
              "    box-shadow: none;\n",
              "  }\n",
              "\n",
              "  .colab-df-spinner {\n",
              "    border: 2px solid var(--fill-color);\n",
              "    border-color: transparent;\n",
              "    border-bottom-color: var(--fill-color);\n",
              "    animation:\n",
              "      spin 1s steps(1) infinite;\n",
              "  }\n",
              "\n",
              "  @keyframes spin {\n",
              "    0% {\n",
              "      border-color: transparent;\n",
              "      border-bottom-color: var(--fill-color);\n",
              "      border-left-color: var(--fill-color);\n",
              "    }\n",
              "    20% {\n",
              "      border-color: transparent;\n",
              "      border-left-color: var(--fill-color);\n",
              "      border-top-color: var(--fill-color);\n",
              "    }\n",
              "    30% {\n",
              "      border-color: transparent;\n",
              "      border-left-color: var(--fill-color);\n",
              "      border-top-color: var(--fill-color);\n",
              "      border-right-color: var(--fill-color);\n",
              "    }\n",
              "    40% {\n",
              "      border-color: transparent;\n",
              "      border-right-color: var(--fill-color);\n",
              "      border-top-color: var(--fill-color);\n",
              "    }\n",
              "    60% {\n",
              "      border-color: transparent;\n",
              "      border-right-color: var(--fill-color);\n",
              "    }\n",
              "    80% {\n",
              "      border-color: transparent;\n",
              "      border-right-color: var(--fill-color);\n",
              "      border-bottom-color: var(--fill-color);\n",
              "    }\n",
              "    90% {\n",
              "      border-color: transparent;\n",
              "      border-bottom-color: var(--fill-color);\n",
              "    }\n",
              "  }\n",
              "</style>\n",
              "\n",
              "      <script>\n",
              "        async function quickchart(key) {\n",
              "          const quickchartButtonEl =\n",
              "            document.querySelector('#' + key + ' button');\n",
              "          quickchartButtonEl.disabled = true;  // To prevent multiple clicks.\n",
              "          quickchartButtonEl.classList.add('colab-df-spinner');\n",
              "          try {\n",
              "            const charts = await google.colab.kernel.invokeFunction(\n",
              "                'suggestCharts', [key], {});\n",
              "          } catch (error) {\n",
              "            console.error('Error during call to suggestCharts:', error);\n",
              "          }\n",
              "          quickchartButtonEl.classList.remove('colab-df-spinner');\n",
              "          quickchartButtonEl.classList.add('colab-df-quickchart-complete');\n",
              "        }\n",
              "        (() => {\n",
              "          let quickchartButtonEl =\n",
              "            document.querySelector('#df-6ea4dcd9-a95c-4931-8370-a8a050477618 button');\n",
              "          quickchartButtonEl.style.display =\n",
              "            google.colab.kernel.accessAllowed ? 'block' : 'none';\n",
              "        })();\n",
              "      </script>\n",
              "    </div>\n",
              "\n",
              "    </div>\n",
              "  </div>\n"
            ],
            "application/vnd.google.colaboratory.intrinsic+json": {
              "type": "dataframe",
              "summary": "{\n  \"name\": \"df_high_pop\",\n  \"rows\": 8,\n  \"fields\": [\n    {\n      \"column\": \"energy\",\n      \"properties\": {\n        \"dtype\": \"number\",\n        \"std\": 595.8945918888949,\n        \"min\": 0.00161,\n        \"max\": 1686.0,\n        \"num_unique_values\": 8,\n        \"samples\": [\n          0.6672160735468565,\n          0.689,\n          1686.0\n        ],\n        \"semantic_type\": \"\",\n        \"description\": \"\"\n      }\n    },\n    {\n      \"column\": \"tempo\",\n      \"properties\": {\n        \"dtype\": \"number\",\n        \"std\": 560.2544653968512,\n        \"min\": 27.066029252496747,\n        \"max\": 1686.0,\n        \"num_unique_values\": 8,\n        \"samples\": [\n          121.07093772241994,\n          120.001,\n          1686.0\n        ],\n        \"semantic_type\": \"\",\n        \"description\": \"\"\n      }\n    },\n    {\n      \"column\": \"danceability\",\n      \"properties\": {\n        \"dtype\": \"number\",\n        \"std\": 595.8941147560673,\n        \"min\": 0.136,\n        \"max\": 1686.0,\n        \"num_unique_values\": 8,\n        \"samples\": [\n          0.650361803084223,\n          0.6645000000000001,\n          1686.0\n        ],\n        \"semantic_type\": \"\",\n        \"description\": \"\"\n      }\n    },\n    {\n      \"column\": \"loudness\",\n      \"properties\": {\n        \"dtype\": \"number\",\n        \"std\": 599.5159361013397,\n        \"min\": -43.643,\n        \"max\": 1686.0,\n        \"num_unique_values\": 8,\n        \"samples\": [\n          -6.704131079478055,\n          -5.9745,\n          1686.0\n        ],\n        \"semantic_type\": \"\",\n        \"description\": \"\"\n      }\n    },\n    {\n      \"column\": \"liveness\",\n      \"properties\": {\n        \"dtype\": \"number\",\n        \"std\": 596.0056842899927,\n        \"min\": 0.021,\n        \"max\": 1686.0,\n        \"num_unique_values\": 8,\n        \"samples\": [\n          0.1715785883748517,\n          0.121,\n          1686.0\n        ],\n        \"semantic_type\": \"\",\n        \"description\": \"\"\n      }\n    },\n    {\n      \"column\": \"valence\",\n      \"properties\": {\n        \"dtype\": \"number\",\n        \"std\": 595.9212980144584,\n        \"min\": 0.0348,\n        \"max\": 1686.0,\n        \"num_unique_values\": 8,\n        \"samples\": [\n          0.5257365361803085,\n          0.528,\n          1686.0\n        ],\n        \"semantic_type\": \"\",\n        \"description\": \"\"\n      }\n    },\n    {\n      \"column\": \"time_signature\",\n      \"properties\": {\n        \"dtype\": \"number\",\n        \"std\": 594.9681246907883,\n        \"min\": 0.3266727748851547,\n        \"max\": 1686.0,\n        \"num_unique_values\": 6,\n        \"samples\": [\n          1686.0,\n          3.9501779359430604,\n          5.0\n        ],\n        \"semantic_type\": \"\",\n        \"description\": \"\"\n      }\n    },\n    {\n      \"column\": \"speechiness\",\n      \"properties\": {\n        \"dtype\": \"number\",\n        \"std\": 596.0261326557779,\n        \"min\": 0.0232,\n        \"max\": 1686.0,\n        \"num_unique_values\": 8,\n        \"samples\": [\n          0.10092633451957297,\n          0.0581,\n          1686.0\n        ],\n        \"semantic_type\": \"\",\n        \"description\": \"\"\n      }\n    },\n    {\n      \"column\": \"track_popularity\",\n      \"properties\": {\n        \"dtype\": \"number\",\n        \"std\": 572.744897913111,\n        \"min\": 6.03253189985256,\n        \"max\": 1686.0,\n        \"num_unique_values\": 8,\n        \"samples\": [\n          75.80604982206405,\n          75.0,\n          1686.0\n        ],\n        \"semantic_type\": \"\",\n        \"description\": \"\"\n      }\n    },\n    {\n      \"column\": \"instrumentalness\",\n      \"properties\": {\n        \"dtype\": \"number\",\n        \"std\": 596.032020578821,\n        \"min\": 0.0,\n        \"max\": 1686.0,\n        \"num_unique_values\": 7,\n        \"samples\": [\n          1686.0,\n          0.04152042623962041,\n          0.00081375\n        ],\n        \"semantic_type\": \"\",\n        \"description\": \"\"\n      }\n    },\n    {\n      \"column\": \"mode\",\n      \"properties\": {\n        \"dtype\": \"number\",\n        \"std\": 595.8854807787158,\n        \"min\": 0.0,\n        \"max\": 1686.0,\n        \"num_unique_values\": 5,\n        \"samples\": [\n          0.5782918149466192,\n          1.0,\n          0.4939788678831942\n        ],\n        \"semantic_type\": \"\",\n        \"description\": \"\"\n      }\n    },\n    {\n      \"column\": \"key\",\n      \"properties\": {\n        \"dtype\": \"number\",\n        \"std\": 594.3357034927711,\n        \"min\": 0.0,\n        \"max\": 1686.0,\n        \"num_unique_values\": 8,\n        \"samples\": [\n          5.338078291814947,\n          5.0,\n          1686.0\n        ],\n        \"semantic_type\": \"\",\n        \"description\": \"\"\n      }\n    },\n    {\n      \"column\": \"duration_ms\",\n      \"properties\": {\n        \"dtype\": \"number\",\n        \"std\": 169474.42642690166,\n        \"min\": 1686.0,\n        \"max\": 547107.0,\n        \"num_unique_values\": 8,\n        \"samples\": [\n          214562.12574139977,\n          211180.0,\n          1686.0\n        ],\n        \"semantic_type\": \"\",\n        \"description\": \"\"\n      }\n    },\n    {\n      \"column\": \"acousticness\",\n      \"properties\": {\n        \"dtype\": \"number\",\n        \"std\": 595.9926784488673,\n        \"min\": 1.33e-05,\n        \"max\": 1686.0,\n        \"num_unique_values\": 8,\n        \"samples\": [\n          0.22121953351126927,\n          0.124,\n          1686.0\n        ],\n        \"semantic_type\": \"\",\n        \"description\": \"\"\n      }\n    }\n  ]\n}"
            }
          },
          "metadata": {},
          "execution_count": 5
        }
      ]
    },
    {
      "cell_type": "markdown",
      "source": [
        "Kode di atas menampilkan informasi deskripsi statistik dari dataset high_popularity_spotify_data.csv yang terdiri dari jumlah baris, rata-rata, standar deviasi, jumlah minimal, Quartal 1, Quartal 2, Quartal 3, dan jumlah maksimal dari setiap kolom."
      ],
      "metadata": {
        "id": "nvqXS6bxvBTP"
      }
    },
    {
      "cell_type": "code",
      "source": [
        "print(\"Jumlah missing values per kolom pada Data High Popularity:\")\n",
        "print(df_high_pop.isnull().sum())"
      ],
      "metadata": {
        "colab": {
          "base_uri": "https://localhost:8080/"
        },
        "id": "ybw9FFt89Nma",
        "outputId": "06155945-8dc4-4222-cd69-706b4867f622"
      },
      "execution_count": null,
      "outputs": [
        {
          "output_type": "stream",
          "name": "stdout",
          "text": [
            "Jumlah missing values per kolom pada Data High Popularity:\n",
            "energy                      0\n",
            "tempo                       0\n",
            "danceability                0\n",
            "playlist_genre              0\n",
            "loudness                    0\n",
            "liveness                    0\n",
            "valence                     0\n",
            "track_artist                0\n",
            "time_signature              0\n",
            "speechiness                 0\n",
            "track_popularity            0\n",
            "track_href                  0\n",
            "uri                         0\n",
            "track_album_name            1\n",
            "playlist_name               0\n",
            "analysis_url                0\n",
            "track_id                    0\n",
            "track_name                  0\n",
            "track_album_release_date    0\n",
            "instrumentalness            0\n",
            "track_album_id              0\n",
            "mode                        0\n",
            "key                         0\n",
            "duration_ms                 0\n",
            "acousticness                0\n",
            "id                          0\n",
            "playlist_subgenre           0\n",
            "type                        0\n",
            "playlist_id                 0\n",
            "dtype: int64\n"
          ]
        }
      ]
    },
    {
      "cell_type": "markdown",
      "source": [
        "Dalam pengecekan missing value dari dataset high_popularity_spotify_data.csv, ditemukan bahwa hanya terdapat 1 missing value pada kolom track_album_name saja, selain itu aman."
      ],
      "metadata": {
        "id": "1AZXA1l1vX1l"
      }
    },
    {
      "cell_type": "code",
      "source": [
        "print(\"\\nJumlah baris duplikat pada Data High Popularity:\")\n",
        "num_duplicates = df_high_pop.duplicated().sum()\n",
        "print(num_duplicates)"
      ],
      "metadata": {
        "colab": {
          "base_uri": "https://localhost:8080/"
        },
        "id": "HYwPuXng97G9",
        "outputId": "bb90025b-7e9b-4503-bf94-80c09b1d87cd"
      },
      "execution_count": null,
      "outputs": [
        {
          "output_type": "stream",
          "name": "stdout",
          "text": [
            "\n",
            "Jumlah baris duplikat pada Data High Popularity:\n",
            "0\n"
          ]
        }
      ]
    },
    {
      "cell_type": "markdown",
      "source": [
        "Dalam pengecekan data duplikat dari dataset high_popularity_spotify_data.csv, tidak ada data atau baris yang duplikat."
      ],
      "metadata": {
        "id": "vRNqN49nvkBr"
      }
    },
    {
      "cell_type": "markdown",
      "source": [
        "**Pengecekan Dataset Low Popularity**"
      ],
      "metadata": {
        "id": "Wlu0R9WH8TsB"
      }
    },
    {
      "cell_type": "code",
      "source": [
        "print(\"5 Data awal dari low_popularity\")\n",
        "df_low_pop.head()"
      ],
      "metadata": {
        "colab": {
          "base_uri": "https://localhost:8080/",
          "height": 429
        },
        "id": "aYL1jGCW8HHc",
        "outputId": "b5c75cb7-8d62-4ffa-c799-f1e624779abc"
      },
      "execution_count": null,
      "outputs": [
        {
          "output_type": "stream",
          "name": "stdout",
          "text": [
            "5 Data awal dari low_popularity\n"
          ]
        },
        {
          "output_type": "execute_result",
          "data": {
            "text/plain": [
              "   time_signature  track_popularity  speechiness  danceability  playlist_name  \\\n",
              "0             4.0                23       0.0393         0.636  Rock Classics   \n",
              "1             4.0                53       0.0317         0.572  Rock Classics   \n",
              "2             4.0                55       0.0454         0.591  Rock Classics   \n",
              "3             4.0                64       0.1010         0.443  Jazz Classics   \n",
              "4             4.0                62       0.0298         0.685  Jazz Classics   \n",
              "\n",
              "                       track_artist  duration_ms  energy playlist_genre  \\\n",
              "0      Creedence Clearwater Revival     138053.0   0.746           rock   \n",
              "1                         Van Halen     241600.0   0.835           rock   \n",
              "2                      Stevie Nicks     329413.0   0.804           rock   \n",
              "3  Ella Fitzgerald, Louis Armstrong     185160.0   0.104           jazz   \n",
              "4                    Galt MacDermot     205720.0   0.472           jazz   \n",
              "\n",
              "  playlist_subgenre  ...          track_album_id             playlist_id  \\\n",
              "0           classic  ...  4A8gFwqd9jTtnsNwUu3OQx  37i9dQZF1DWXRqgorJj26U   \n",
              "1           classic  ...  2c965LEDRNrXXCeBOAAwns  37i9dQZF1DWXRqgorJj26U   \n",
              "2           classic  ...  3S404OgKoVQSJ3xXrDVlp8  37i9dQZF1DWXRqgorJj26U   \n",
              "3           classic  ...  1y5KGkUKO0NG32MhIIagCA  37i9dQZF1DXbITWG1ZJKYt   \n",
              "4           classic  ...  6f4b9wVTkKAf096k4XG6x5  37i9dQZF1DXbITWG1ZJKYt   \n",
              "\n",
              "                 track_id valence  key    tempo loudness acousticness  \\\n",
              "0  5e6x5YRnMJIKvYpZxLqdpH   0.432  0.0  132.310   -3.785       0.0648   \n",
              "1  5FqYA8KfiwsQvyBI4IamnY   0.795  0.0  129.981   -6.219       0.1710   \n",
              "2  5LNiqEqpDc8TuqPy79kDBu   0.658  0.0  111.457   -7.299       0.3270   \n",
              "3  78MI7mu1LV1k4IA2HzKmHe   0.394  0.0   76.474  -17.042       0.9130   \n",
              "4  6MN6yRVriszuyAVlyF8ndB   0.475  9.0   80.487   -9.691       0.7850   \n",
              "\n",
              "   liveness                                   track_album_name  \n",
              "0    0.1730  The Long Road Home - The Ultimate John Fogerty...  \n",
              "1    0.0702                                     The Collection  \n",
              "2    0.0818                       Bella Donna (Deluxe Edition)  \n",
              "3    0.1910                                         Love, Ella  \n",
              "4    0.2240                  Shapes of Rhythm/Woman Is Sweeter  \n",
              "\n",
              "[5 rows x 29 columns]"
            ],
            "text/html": [
              "\n",
              "  <div id=\"df-79f4325c-58d1-4a1c-83f4-577946226330\" class=\"colab-df-container\">\n",
              "    <div>\n",
              "<style scoped>\n",
              "    .dataframe tbody tr th:only-of-type {\n",
              "        vertical-align: middle;\n",
              "    }\n",
              "\n",
              "    .dataframe tbody tr th {\n",
              "        vertical-align: top;\n",
              "    }\n",
              "\n",
              "    .dataframe thead th {\n",
              "        text-align: right;\n",
              "    }\n",
              "</style>\n",
              "<table border=\"1\" class=\"dataframe\">\n",
              "  <thead>\n",
              "    <tr style=\"text-align: right;\">\n",
              "      <th></th>\n",
              "      <th>time_signature</th>\n",
              "      <th>track_popularity</th>\n",
              "      <th>speechiness</th>\n",
              "      <th>danceability</th>\n",
              "      <th>playlist_name</th>\n",
              "      <th>track_artist</th>\n",
              "      <th>duration_ms</th>\n",
              "      <th>energy</th>\n",
              "      <th>playlist_genre</th>\n",
              "      <th>playlist_subgenre</th>\n",
              "      <th>...</th>\n",
              "      <th>track_album_id</th>\n",
              "      <th>playlist_id</th>\n",
              "      <th>track_id</th>\n",
              "      <th>valence</th>\n",
              "      <th>key</th>\n",
              "      <th>tempo</th>\n",
              "      <th>loudness</th>\n",
              "      <th>acousticness</th>\n",
              "      <th>liveness</th>\n",
              "      <th>track_album_name</th>\n",
              "    </tr>\n",
              "  </thead>\n",
              "  <tbody>\n",
              "    <tr>\n",
              "      <th>0</th>\n",
              "      <td>4.0</td>\n",
              "      <td>23</td>\n",
              "      <td>0.0393</td>\n",
              "      <td>0.636</td>\n",
              "      <td>Rock Classics</td>\n",
              "      <td>Creedence Clearwater Revival</td>\n",
              "      <td>138053.0</td>\n",
              "      <td>0.746</td>\n",
              "      <td>rock</td>\n",
              "      <td>classic</td>\n",
              "      <td>...</td>\n",
              "      <td>4A8gFwqd9jTtnsNwUu3OQx</td>\n",
              "      <td>37i9dQZF1DWXRqgorJj26U</td>\n",
              "      <td>5e6x5YRnMJIKvYpZxLqdpH</td>\n",
              "      <td>0.432</td>\n",
              "      <td>0.0</td>\n",
              "      <td>132.310</td>\n",
              "      <td>-3.785</td>\n",
              "      <td>0.0648</td>\n",
              "      <td>0.1730</td>\n",
              "      <td>The Long Road Home - The Ultimate John Fogerty...</td>\n",
              "    </tr>\n",
              "    <tr>\n",
              "      <th>1</th>\n",
              "      <td>4.0</td>\n",
              "      <td>53</td>\n",
              "      <td>0.0317</td>\n",
              "      <td>0.572</td>\n",
              "      <td>Rock Classics</td>\n",
              "      <td>Van Halen</td>\n",
              "      <td>241600.0</td>\n",
              "      <td>0.835</td>\n",
              "      <td>rock</td>\n",
              "      <td>classic</td>\n",
              "      <td>...</td>\n",
              "      <td>2c965LEDRNrXXCeBOAAwns</td>\n",
              "      <td>37i9dQZF1DWXRqgorJj26U</td>\n",
              "      <td>5FqYA8KfiwsQvyBI4IamnY</td>\n",
              "      <td>0.795</td>\n",
              "      <td>0.0</td>\n",
              "      <td>129.981</td>\n",
              "      <td>-6.219</td>\n",
              "      <td>0.1710</td>\n",
              "      <td>0.0702</td>\n",
              "      <td>The Collection</td>\n",
              "    </tr>\n",
              "    <tr>\n",
              "      <th>2</th>\n",
              "      <td>4.0</td>\n",
              "      <td>55</td>\n",
              "      <td>0.0454</td>\n",
              "      <td>0.591</td>\n",
              "      <td>Rock Classics</td>\n",
              "      <td>Stevie Nicks</td>\n",
              "      <td>329413.0</td>\n",
              "      <td>0.804</td>\n",
              "      <td>rock</td>\n",
              "      <td>classic</td>\n",
              "      <td>...</td>\n",
              "      <td>3S404OgKoVQSJ3xXrDVlp8</td>\n",
              "      <td>37i9dQZF1DWXRqgorJj26U</td>\n",
              "      <td>5LNiqEqpDc8TuqPy79kDBu</td>\n",
              "      <td>0.658</td>\n",
              "      <td>0.0</td>\n",
              "      <td>111.457</td>\n",
              "      <td>-7.299</td>\n",
              "      <td>0.3270</td>\n",
              "      <td>0.0818</td>\n",
              "      <td>Bella Donna (Deluxe Edition)</td>\n",
              "    </tr>\n",
              "    <tr>\n",
              "      <th>3</th>\n",
              "      <td>4.0</td>\n",
              "      <td>64</td>\n",
              "      <td>0.1010</td>\n",
              "      <td>0.443</td>\n",
              "      <td>Jazz Classics</td>\n",
              "      <td>Ella Fitzgerald, Louis Armstrong</td>\n",
              "      <td>185160.0</td>\n",
              "      <td>0.104</td>\n",
              "      <td>jazz</td>\n",
              "      <td>classic</td>\n",
              "      <td>...</td>\n",
              "      <td>1y5KGkUKO0NG32MhIIagCA</td>\n",
              "      <td>37i9dQZF1DXbITWG1ZJKYt</td>\n",
              "      <td>78MI7mu1LV1k4IA2HzKmHe</td>\n",
              "      <td>0.394</td>\n",
              "      <td>0.0</td>\n",
              "      <td>76.474</td>\n",
              "      <td>-17.042</td>\n",
              "      <td>0.9130</td>\n",
              "      <td>0.1910</td>\n",
              "      <td>Love, Ella</td>\n",
              "    </tr>\n",
              "    <tr>\n",
              "      <th>4</th>\n",
              "      <td>4.0</td>\n",
              "      <td>62</td>\n",
              "      <td>0.0298</td>\n",
              "      <td>0.685</td>\n",
              "      <td>Jazz Classics</td>\n",
              "      <td>Galt MacDermot</td>\n",
              "      <td>205720.0</td>\n",
              "      <td>0.472</td>\n",
              "      <td>jazz</td>\n",
              "      <td>classic</td>\n",
              "      <td>...</td>\n",
              "      <td>6f4b9wVTkKAf096k4XG6x5</td>\n",
              "      <td>37i9dQZF1DXbITWG1ZJKYt</td>\n",
              "      <td>6MN6yRVriszuyAVlyF8ndB</td>\n",
              "      <td>0.475</td>\n",
              "      <td>9.0</td>\n",
              "      <td>80.487</td>\n",
              "      <td>-9.691</td>\n",
              "      <td>0.7850</td>\n",
              "      <td>0.2240</td>\n",
              "      <td>Shapes of Rhythm/Woman Is Sweeter</td>\n",
              "    </tr>\n",
              "  </tbody>\n",
              "</table>\n",
              "<p>5 rows × 29 columns</p>\n",
              "</div>\n",
              "    <div class=\"colab-df-buttons\">\n",
              "\n",
              "  <div class=\"colab-df-container\">\n",
              "    <button class=\"colab-df-convert\" onclick=\"convertToInteractive('df-79f4325c-58d1-4a1c-83f4-577946226330')\"\n",
              "            title=\"Convert this dataframe to an interactive table.\"\n",
              "            style=\"display:none;\">\n",
              "\n",
              "  <svg xmlns=\"http://www.w3.org/2000/svg\" height=\"24px\" viewBox=\"0 -960 960 960\">\n",
              "    <path d=\"M120-120v-720h720v720H120Zm60-500h600v-160H180v160Zm220 220h160v-160H400v160Zm0 220h160v-160H400v160ZM180-400h160v-160H180v160Zm440 0h160v-160H620v160ZM180-180h160v-160H180v160Zm440 0h160v-160H620v160Z\"/>\n",
              "  </svg>\n",
              "    </button>\n",
              "\n",
              "  <style>\n",
              "    .colab-df-container {\n",
              "      display:flex;\n",
              "      gap: 12px;\n",
              "    }\n",
              "\n",
              "    .colab-df-convert {\n",
              "      background-color: #E8F0FE;\n",
              "      border: none;\n",
              "      border-radius: 50%;\n",
              "      cursor: pointer;\n",
              "      display: none;\n",
              "      fill: #1967D2;\n",
              "      height: 32px;\n",
              "      padding: 0 0 0 0;\n",
              "      width: 32px;\n",
              "    }\n",
              "\n",
              "    .colab-df-convert:hover {\n",
              "      background-color: #E2EBFA;\n",
              "      box-shadow: 0px 1px 2px rgba(60, 64, 67, 0.3), 0px 1px 3px 1px rgba(60, 64, 67, 0.15);\n",
              "      fill: #174EA6;\n",
              "    }\n",
              "\n",
              "    .colab-df-buttons div {\n",
              "      margin-bottom: 4px;\n",
              "    }\n",
              "\n",
              "    [theme=dark] .colab-df-convert {\n",
              "      background-color: #3B4455;\n",
              "      fill: #D2E3FC;\n",
              "    }\n",
              "\n",
              "    [theme=dark] .colab-df-convert:hover {\n",
              "      background-color: #434B5C;\n",
              "      box-shadow: 0px 1px 3px 1px rgba(0, 0, 0, 0.15);\n",
              "      filter: drop-shadow(0px 1px 2px rgba(0, 0, 0, 0.3));\n",
              "      fill: #FFFFFF;\n",
              "    }\n",
              "  </style>\n",
              "\n",
              "    <script>\n",
              "      const buttonEl =\n",
              "        document.querySelector('#df-79f4325c-58d1-4a1c-83f4-577946226330 button.colab-df-convert');\n",
              "      buttonEl.style.display =\n",
              "        google.colab.kernel.accessAllowed ? 'block' : 'none';\n",
              "\n",
              "      async function convertToInteractive(key) {\n",
              "        const element = document.querySelector('#df-79f4325c-58d1-4a1c-83f4-577946226330');\n",
              "        const dataTable =\n",
              "          await google.colab.kernel.invokeFunction('convertToInteractive',\n",
              "                                                    [key], {});\n",
              "        if (!dataTable) return;\n",
              "\n",
              "        const docLinkHtml = 'Like what you see? Visit the ' +\n",
              "          '<a target=\"_blank\" href=https://colab.research.google.com/notebooks/data_table.ipynb>data table notebook</a>'\n",
              "          + ' to learn more about interactive tables.';\n",
              "        element.innerHTML = '';\n",
              "        dataTable['output_type'] = 'display_data';\n",
              "        await google.colab.output.renderOutput(dataTable, element);\n",
              "        const docLink = document.createElement('div');\n",
              "        docLink.innerHTML = docLinkHtml;\n",
              "        element.appendChild(docLink);\n",
              "      }\n",
              "    </script>\n",
              "  </div>\n",
              "\n",
              "\n",
              "    <div id=\"df-6428613a-7dc7-4ed3-bfba-d9117df75280\">\n",
              "      <button class=\"colab-df-quickchart\" onclick=\"quickchart('df-6428613a-7dc7-4ed3-bfba-d9117df75280')\"\n",
              "                title=\"Suggest charts\"\n",
              "                style=\"display:none;\">\n",
              "\n",
              "<svg xmlns=\"http://www.w3.org/2000/svg\" height=\"24px\"viewBox=\"0 0 24 24\"\n",
              "     width=\"24px\">\n",
              "    <g>\n",
              "        <path d=\"M19 3H5c-1.1 0-2 .9-2 2v14c0 1.1.9 2 2 2h14c1.1 0 2-.9 2-2V5c0-1.1-.9-2-2-2zM9 17H7v-7h2v7zm4 0h-2V7h2v10zm4 0h-2v-4h2v4z\"/>\n",
              "    </g>\n",
              "</svg>\n",
              "      </button>\n",
              "\n",
              "<style>\n",
              "  .colab-df-quickchart {\n",
              "      --bg-color: #E8F0FE;\n",
              "      --fill-color: #1967D2;\n",
              "      --hover-bg-color: #E2EBFA;\n",
              "      --hover-fill-color: #174EA6;\n",
              "      --disabled-fill-color: #AAA;\n",
              "      --disabled-bg-color: #DDD;\n",
              "  }\n",
              "\n",
              "  [theme=dark] .colab-df-quickchart {\n",
              "      --bg-color: #3B4455;\n",
              "      --fill-color: #D2E3FC;\n",
              "      --hover-bg-color: #434B5C;\n",
              "      --hover-fill-color: #FFFFFF;\n",
              "      --disabled-bg-color: #3B4455;\n",
              "      --disabled-fill-color: #666;\n",
              "  }\n",
              "\n",
              "  .colab-df-quickchart {\n",
              "    background-color: var(--bg-color);\n",
              "    border: none;\n",
              "    border-radius: 50%;\n",
              "    cursor: pointer;\n",
              "    display: none;\n",
              "    fill: var(--fill-color);\n",
              "    height: 32px;\n",
              "    padding: 0;\n",
              "    width: 32px;\n",
              "  }\n",
              "\n",
              "  .colab-df-quickchart:hover {\n",
              "    background-color: var(--hover-bg-color);\n",
              "    box-shadow: 0 1px 2px rgba(60, 64, 67, 0.3), 0 1px 3px 1px rgba(60, 64, 67, 0.15);\n",
              "    fill: var(--button-hover-fill-color);\n",
              "  }\n",
              "\n",
              "  .colab-df-quickchart-complete:disabled,\n",
              "  .colab-df-quickchart-complete:disabled:hover {\n",
              "    background-color: var(--disabled-bg-color);\n",
              "    fill: var(--disabled-fill-color);\n",
              "    box-shadow: none;\n",
              "  }\n",
              "\n",
              "  .colab-df-spinner {\n",
              "    border: 2px solid var(--fill-color);\n",
              "    border-color: transparent;\n",
              "    border-bottom-color: var(--fill-color);\n",
              "    animation:\n",
              "      spin 1s steps(1) infinite;\n",
              "  }\n",
              "\n",
              "  @keyframes spin {\n",
              "    0% {\n",
              "      border-color: transparent;\n",
              "      border-bottom-color: var(--fill-color);\n",
              "      border-left-color: var(--fill-color);\n",
              "    }\n",
              "    20% {\n",
              "      border-color: transparent;\n",
              "      border-left-color: var(--fill-color);\n",
              "      border-top-color: var(--fill-color);\n",
              "    }\n",
              "    30% {\n",
              "      border-color: transparent;\n",
              "      border-left-color: var(--fill-color);\n",
              "      border-top-color: var(--fill-color);\n",
              "      border-right-color: var(--fill-color);\n",
              "    }\n",
              "    40% {\n",
              "      border-color: transparent;\n",
              "      border-right-color: var(--fill-color);\n",
              "      border-top-color: var(--fill-color);\n",
              "    }\n",
              "    60% {\n",
              "      border-color: transparent;\n",
              "      border-right-color: var(--fill-color);\n",
              "    }\n",
              "    80% {\n",
              "      border-color: transparent;\n",
              "      border-right-color: var(--fill-color);\n",
              "      border-bottom-color: var(--fill-color);\n",
              "    }\n",
              "    90% {\n",
              "      border-color: transparent;\n",
              "      border-bottom-color: var(--fill-color);\n",
              "    }\n",
              "  }\n",
              "</style>\n",
              "\n",
              "      <script>\n",
              "        async function quickchart(key) {\n",
              "          const quickchartButtonEl =\n",
              "            document.querySelector('#' + key + ' button');\n",
              "          quickchartButtonEl.disabled = true;  // To prevent multiple clicks.\n",
              "          quickchartButtonEl.classList.add('colab-df-spinner');\n",
              "          try {\n",
              "            const charts = await google.colab.kernel.invokeFunction(\n",
              "                'suggestCharts', [key], {});\n",
              "          } catch (error) {\n",
              "            console.error('Error during call to suggestCharts:', error);\n",
              "          }\n",
              "          quickchartButtonEl.classList.remove('colab-df-spinner');\n",
              "          quickchartButtonEl.classList.add('colab-df-quickchart-complete');\n",
              "        }\n",
              "        (() => {\n",
              "          let quickchartButtonEl =\n",
              "            document.querySelector('#df-6428613a-7dc7-4ed3-bfba-d9117df75280 button');\n",
              "          quickchartButtonEl.style.display =\n",
              "            google.colab.kernel.accessAllowed ? 'block' : 'none';\n",
              "        })();\n",
              "      </script>\n",
              "    </div>\n",
              "\n",
              "    </div>\n",
              "  </div>\n"
            ],
            "application/vnd.google.colaboratory.intrinsic+json": {
              "type": "dataframe",
              "variable_name": "df_low_pop"
            }
          },
          "metadata": {},
          "execution_count": 8
        }
      ]
    },
    {
      "cell_type": "markdown",
      "source": [
        "Menampilkan 5 data teratas dari dataset low_popularity_spotify_data.csv"
      ],
      "metadata": {
        "id": "xBHa2T_QxndU"
      }
    },
    {
      "cell_type": "code",
      "source": [
        "print(\"Tipe Data dari low_popularity\")\n",
        "df_low_pop.info()"
      ],
      "metadata": {
        "colab": {
          "base_uri": "https://localhost:8080/"
        },
        "id": "1vQ-JSRa8tlr",
        "outputId": "2c3c1eae-15e8-47b5-b406-f116dc979396"
      },
      "execution_count": null,
      "outputs": [
        {
          "output_type": "stream",
          "name": "stdout",
          "text": [
            "Tipe Data dari low_popularity\n",
            "<class 'pandas.core.frame.DataFrame'>\n",
            "RangeIndex: 3145 entries, 0 to 3144\n",
            "Data columns (total 29 columns):\n",
            " #   Column                    Non-Null Count  Dtype  \n",
            "---  ------                    --------------  -----  \n",
            " 0   time_signature            3144 non-null   float64\n",
            " 1   track_popularity          3145 non-null   int64  \n",
            " 2   speechiness               3144 non-null   float64\n",
            " 3   danceability              3144 non-null   float64\n",
            " 4   playlist_name             3145 non-null   object \n",
            " 5   track_artist              3145 non-null   object \n",
            " 6   duration_ms               3144 non-null   float64\n",
            " 7   energy                    3144 non-null   float64\n",
            " 8   playlist_genre            3145 non-null   object \n",
            " 9   playlist_subgenre         3145 non-null   object \n",
            " 10  track_href                3144 non-null   object \n",
            " 11  track_name                3145 non-null   object \n",
            " 12  mode                      3144 non-null   float64\n",
            " 13  uri                       3144 non-null   object \n",
            " 14  type                      3144 non-null   object \n",
            " 15  track_album_release_date  3145 non-null   object \n",
            " 16  analysis_url              3144 non-null   object \n",
            " 17  id                        3144 non-null   object \n",
            " 18  instrumentalness          3144 non-null   float64\n",
            " 19  track_album_id            3145 non-null   object \n",
            " 20  playlist_id               3145 non-null   object \n",
            " 21  track_id                  3145 non-null   object \n",
            " 22  valence                   3144 non-null   float64\n",
            " 23  key                       3144 non-null   float64\n",
            " 24  tempo                     3144 non-null   float64\n",
            " 25  loudness                  3144 non-null   float64\n",
            " 26  acousticness              3144 non-null   float64\n",
            " 27  liveness                  3144 non-null   float64\n",
            " 28  track_album_name          3145 non-null   object \n",
            "dtypes: float64(13), int64(1), object(15)\n",
            "memory usage: 712.7+ KB\n"
          ]
        }
      ]
    },
    {
      "cell_type": "markdown",
      "source": [
        "Dataset memiliki 29 kolom atau fitur"
      ],
      "metadata": {
        "id": "h6awZK6wx7AG"
      }
    },
    {
      "cell_type": "code",
      "source": [
        "print(\"Deskripsi Statistik Data dari low_popularity\")\n",
        "df_low_pop.describe()"
      ],
      "metadata": {
        "colab": {
          "base_uri": "https://localhost:8080/",
          "height": 337
        },
        "id": "wc0g_njR9VtY",
        "outputId": "5724058c-1836-4419-a94e-477cb96e0b82"
      },
      "execution_count": null,
      "outputs": [
        {
          "output_type": "stream",
          "name": "stdout",
          "text": [
            "Deskripsi Statistik Data dari low_popularity\n"
          ]
        },
        {
          "output_type": "execute_result",
          "data": {
            "text/plain": [
              "       time_signature  track_popularity  speechiness  danceability  \\\n",
              "count     3144.000000       3145.000000  3144.000000   3144.000000   \n",
              "mean         3.929389         43.479173     0.102174      0.607268   \n",
              "std          0.447827         14.821766     0.101726      0.200372   \n",
              "min          1.000000         11.000000     0.021900      0.058900   \n",
              "25%          4.000000         32.000000     0.038800      0.509000   \n",
              "50%          4.000000         46.000000     0.055000      0.649500   \n",
              "75%          4.000000         55.000000     0.118000      0.753000   \n",
              "max          5.000000         68.000000     0.927000      0.977000   \n",
              "\n",
              "        duration_ms       energy         mode  instrumentalness      valence  \\\n",
              "count  3.144000e+03  3144.000000  3144.000000       3144.000000  3144.000000   \n",
              "mean   2.016402e+05     0.543509     0.553435          0.286603     0.458438   \n",
              "std    9.157390e+04     0.263635     0.497216          0.395181     0.266140   \n",
              "min    3.537500e+04     0.000202     0.000000          0.000000     0.029600   \n",
              "25%    1.518962e+05     0.357750     0.000000          0.000000     0.232000   \n",
              "50%    1.846410e+05     0.592000     1.000000          0.001060     0.462000   \n",
              "75%    2.264302e+05     0.747000     1.000000          0.788000     0.673000   \n",
              "max    1.355260e+06     0.998000     1.000000          0.991000     0.987000   \n",
              "\n",
              "               key        tempo     loudness  acousticness     liveness  \n",
              "count  3144.000000  3144.000000  3144.000000   3144.000000  3144.000000  \n",
              "mean      5.177163   116.766884   -10.663833      0.405567     0.165487  \n",
              "std       3.565412    29.152400     8.155066      0.342249     0.124652  \n",
              "min       0.000000    48.232000   -48.069000      0.000004     0.022000  \n",
              "25%       2.000000    94.889250   -11.999750      0.084100     0.096400  \n",
              "50%       5.000000   116.052000    -8.026000      0.316000     0.116000  \n",
              "75%       8.000000   136.706500    -5.831000      0.725250     0.189000  \n",
              "max      11.000000   241.426000     1.318000      0.996000     0.979000  "
            ],
            "text/html": [
              "\n",
              "  <div id=\"df-54adc83d-082a-45f2-8d22-a83f0f258670\" class=\"colab-df-container\">\n",
              "    <div>\n",
              "<style scoped>\n",
              "    .dataframe tbody tr th:only-of-type {\n",
              "        vertical-align: middle;\n",
              "    }\n",
              "\n",
              "    .dataframe tbody tr th {\n",
              "        vertical-align: top;\n",
              "    }\n",
              "\n",
              "    .dataframe thead th {\n",
              "        text-align: right;\n",
              "    }\n",
              "</style>\n",
              "<table border=\"1\" class=\"dataframe\">\n",
              "  <thead>\n",
              "    <tr style=\"text-align: right;\">\n",
              "      <th></th>\n",
              "      <th>time_signature</th>\n",
              "      <th>track_popularity</th>\n",
              "      <th>speechiness</th>\n",
              "      <th>danceability</th>\n",
              "      <th>duration_ms</th>\n",
              "      <th>energy</th>\n",
              "      <th>mode</th>\n",
              "      <th>instrumentalness</th>\n",
              "      <th>valence</th>\n",
              "      <th>key</th>\n",
              "      <th>tempo</th>\n",
              "      <th>loudness</th>\n",
              "      <th>acousticness</th>\n",
              "      <th>liveness</th>\n",
              "    </tr>\n",
              "  </thead>\n",
              "  <tbody>\n",
              "    <tr>\n",
              "      <th>count</th>\n",
              "      <td>3144.000000</td>\n",
              "      <td>3145.000000</td>\n",
              "      <td>3144.000000</td>\n",
              "      <td>3144.000000</td>\n",
              "      <td>3.144000e+03</td>\n",
              "      <td>3144.000000</td>\n",
              "      <td>3144.000000</td>\n",
              "      <td>3144.000000</td>\n",
              "      <td>3144.000000</td>\n",
              "      <td>3144.000000</td>\n",
              "      <td>3144.000000</td>\n",
              "      <td>3144.000000</td>\n",
              "      <td>3144.000000</td>\n",
              "      <td>3144.000000</td>\n",
              "    </tr>\n",
              "    <tr>\n",
              "      <th>mean</th>\n",
              "      <td>3.929389</td>\n",
              "      <td>43.479173</td>\n",
              "      <td>0.102174</td>\n",
              "      <td>0.607268</td>\n",
              "      <td>2.016402e+05</td>\n",
              "      <td>0.543509</td>\n",
              "      <td>0.553435</td>\n",
              "      <td>0.286603</td>\n",
              "      <td>0.458438</td>\n",
              "      <td>5.177163</td>\n",
              "      <td>116.766884</td>\n",
              "      <td>-10.663833</td>\n",
              "      <td>0.405567</td>\n",
              "      <td>0.165487</td>\n",
              "    </tr>\n",
              "    <tr>\n",
              "      <th>std</th>\n",
              "      <td>0.447827</td>\n",
              "      <td>14.821766</td>\n",
              "      <td>0.101726</td>\n",
              "      <td>0.200372</td>\n",
              "      <td>9.157390e+04</td>\n",
              "      <td>0.263635</td>\n",
              "      <td>0.497216</td>\n",
              "      <td>0.395181</td>\n",
              "      <td>0.266140</td>\n",
              "      <td>3.565412</td>\n",
              "      <td>29.152400</td>\n",
              "      <td>8.155066</td>\n",
              "      <td>0.342249</td>\n",
              "      <td>0.124652</td>\n",
              "    </tr>\n",
              "    <tr>\n",
              "      <th>min</th>\n",
              "      <td>1.000000</td>\n",
              "      <td>11.000000</td>\n",
              "      <td>0.021900</td>\n",
              "      <td>0.058900</td>\n",
              "      <td>3.537500e+04</td>\n",
              "      <td>0.000202</td>\n",
              "      <td>0.000000</td>\n",
              "      <td>0.000000</td>\n",
              "      <td>0.029600</td>\n",
              "      <td>0.000000</td>\n",
              "      <td>48.232000</td>\n",
              "      <td>-48.069000</td>\n",
              "      <td>0.000004</td>\n",
              "      <td>0.022000</td>\n",
              "    </tr>\n",
              "    <tr>\n",
              "      <th>25%</th>\n",
              "      <td>4.000000</td>\n",
              "      <td>32.000000</td>\n",
              "      <td>0.038800</td>\n",
              "      <td>0.509000</td>\n",
              "      <td>1.518962e+05</td>\n",
              "      <td>0.357750</td>\n",
              "      <td>0.000000</td>\n",
              "      <td>0.000000</td>\n",
              "      <td>0.232000</td>\n",
              "      <td>2.000000</td>\n",
              "      <td>94.889250</td>\n",
              "      <td>-11.999750</td>\n",
              "      <td>0.084100</td>\n",
              "      <td>0.096400</td>\n",
              "    </tr>\n",
              "    <tr>\n",
              "      <th>50%</th>\n",
              "      <td>4.000000</td>\n",
              "      <td>46.000000</td>\n",
              "      <td>0.055000</td>\n",
              "      <td>0.649500</td>\n",
              "      <td>1.846410e+05</td>\n",
              "      <td>0.592000</td>\n",
              "      <td>1.000000</td>\n",
              "      <td>0.001060</td>\n",
              "      <td>0.462000</td>\n",
              "      <td>5.000000</td>\n",
              "      <td>116.052000</td>\n",
              "      <td>-8.026000</td>\n",
              "      <td>0.316000</td>\n",
              "      <td>0.116000</td>\n",
              "    </tr>\n",
              "    <tr>\n",
              "      <th>75%</th>\n",
              "      <td>4.000000</td>\n",
              "      <td>55.000000</td>\n",
              "      <td>0.118000</td>\n",
              "      <td>0.753000</td>\n",
              "      <td>2.264302e+05</td>\n",
              "      <td>0.747000</td>\n",
              "      <td>1.000000</td>\n",
              "      <td>0.788000</td>\n",
              "      <td>0.673000</td>\n",
              "      <td>8.000000</td>\n",
              "      <td>136.706500</td>\n",
              "      <td>-5.831000</td>\n",
              "      <td>0.725250</td>\n",
              "      <td>0.189000</td>\n",
              "    </tr>\n",
              "    <tr>\n",
              "      <th>max</th>\n",
              "      <td>5.000000</td>\n",
              "      <td>68.000000</td>\n",
              "      <td>0.927000</td>\n",
              "      <td>0.977000</td>\n",
              "      <td>1.355260e+06</td>\n",
              "      <td>0.998000</td>\n",
              "      <td>1.000000</td>\n",
              "      <td>0.991000</td>\n",
              "      <td>0.987000</td>\n",
              "      <td>11.000000</td>\n",
              "      <td>241.426000</td>\n",
              "      <td>1.318000</td>\n",
              "      <td>0.996000</td>\n",
              "      <td>0.979000</td>\n",
              "    </tr>\n",
              "  </tbody>\n",
              "</table>\n",
              "</div>\n",
              "    <div class=\"colab-df-buttons\">\n",
              "\n",
              "  <div class=\"colab-df-container\">\n",
              "    <button class=\"colab-df-convert\" onclick=\"convertToInteractive('df-54adc83d-082a-45f2-8d22-a83f0f258670')\"\n",
              "            title=\"Convert this dataframe to an interactive table.\"\n",
              "            style=\"display:none;\">\n",
              "\n",
              "  <svg xmlns=\"http://www.w3.org/2000/svg\" height=\"24px\" viewBox=\"0 -960 960 960\">\n",
              "    <path d=\"M120-120v-720h720v720H120Zm60-500h600v-160H180v160Zm220 220h160v-160H400v160Zm0 220h160v-160H400v160ZM180-400h160v-160H180v160Zm440 0h160v-160H620v160ZM180-180h160v-160H180v160Zm440 0h160v-160H620v160Z\"/>\n",
              "  </svg>\n",
              "    </button>\n",
              "\n",
              "  <style>\n",
              "    .colab-df-container {\n",
              "      display:flex;\n",
              "      gap: 12px;\n",
              "    }\n",
              "\n",
              "    .colab-df-convert {\n",
              "      background-color: #E8F0FE;\n",
              "      border: none;\n",
              "      border-radius: 50%;\n",
              "      cursor: pointer;\n",
              "      display: none;\n",
              "      fill: #1967D2;\n",
              "      height: 32px;\n",
              "      padding: 0 0 0 0;\n",
              "      width: 32px;\n",
              "    }\n",
              "\n",
              "    .colab-df-convert:hover {\n",
              "      background-color: #E2EBFA;\n",
              "      box-shadow: 0px 1px 2px rgba(60, 64, 67, 0.3), 0px 1px 3px 1px rgba(60, 64, 67, 0.15);\n",
              "      fill: #174EA6;\n",
              "    }\n",
              "\n",
              "    .colab-df-buttons div {\n",
              "      margin-bottom: 4px;\n",
              "    }\n",
              "\n",
              "    [theme=dark] .colab-df-convert {\n",
              "      background-color: #3B4455;\n",
              "      fill: #D2E3FC;\n",
              "    }\n",
              "\n",
              "    [theme=dark] .colab-df-convert:hover {\n",
              "      background-color: #434B5C;\n",
              "      box-shadow: 0px 1px 3px 1px rgba(0, 0, 0, 0.15);\n",
              "      filter: drop-shadow(0px 1px 2px rgba(0, 0, 0, 0.3));\n",
              "      fill: #FFFFFF;\n",
              "    }\n",
              "  </style>\n",
              "\n",
              "    <script>\n",
              "      const buttonEl =\n",
              "        document.querySelector('#df-54adc83d-082a-45f2-8d22-a83f0f258670 button.colab-df-convert');\n",
              "      buttonEl.style.display =\n",
              "        google.colab.kernel.accessAllowed ? 'block' : 'none';\n",
              "\n",
              "      async function convertToInteractive(key) {\n",
              "        const element = document.querySelector('#df-54adc83d-082a-45f2-8d22-a83f0f258670');\n",
              "        const dataTable =\n",
              "          await google.colab.kernel.invokeFunction('convertToInteractive',\n",
              "                                                    [key], {});\n",
              "        if (!dataTable) return;\n",
              "\n",
              "        const docLinkHtml = 'Like what you see? Visit the ' +\n",
              "          '<a target=\"_blank\" href=https://colab.research.google.com/notebooks/data_table.ipynb>data table notebook</a>'\n",
              "          + ' to learn more about interactive tables.';\n",
              "        element.innerHTML = '';\n",
              "        dataTable['output_type'] = 'display_data';\n",
              "        await google.colab.output.renderOutput(dataTable, element);\n",
              "        const docLink = document.createElement('div');\n",
              "        docLink.innerHTML = docLinkHtml;\n",
              "        element.appendChild(docLink);\n",
              "      }\n",
              "    </script>\n",
              "  </div>\n",
              "\n",
              "\n",
              "    <div id=\"df-d93139b7-b574-4dce-9899-2c8e6fc237eb\">\n",
              "      <button class=\"colab-df-quickchart\" onclick=\"quickchart('df-d93139b7-b574-4dce-9899-2c8e6fc237eb')\"\n",
              "                title=\"Suggest charts\"\n",
              "                style=\"display:none;\">\n",
              "\n",
              "<svg xmlns=\"http://www.w3.org/2000/svg\" height=\"24px\"viewBox=\"0 0 24 24\"\n",
              "     width=\"24px\">\n",
              "    <g>\n",
              "        <path d=\"M19 3H5c-1.1 0-2 .9-2 2v14c0 1.1.9 2 2 2h14c1.1 0 2-.9 2-2V5c0-1.1-.9-2-2-2zM9 17H7v-7h2v7zm4 0h-2V7h2v10zm4 0h-2v-4h2v4z\"/>\n",
              "    </g>\n",
              "</svg>\n",
              "      </button>\n",
              "\n",
              "<style>\n",
              "  .colab-df-quickchart {\n",
              "      --bg-color: #E8F0FE;\n",
              "      --fill-color: #1967D2;\n",
              "      --hover-bg-color: #E2EBFA;\n",
              "      --hover-fill-color: #174EA6;\n",
              "      --disabled-fill-color: #AAA;\n",
              "      --disabled-bg-color: #DDD;\n",
              "  }\n",
              "\n",
              "  [theme=dark] .colab-df-quickchart {\n",
              "      --bg-color: #3B4455;\n",
              "      --fill-color: #D2E3FC;\n",
              "      --hover-bg-color: #434B5C;\n",
              "      --hover-fill-color: #FFFFFF;\n",
              "      --disabled-bg-color: #3B4455;\n",
              "      --disabled-fill-color: #666;\n",
              "  }\n",
              "\n",
              "  .colab-df-quickchart {\n",
              "    background-color: var(--bg-color);\n",
              "    border: none;\n",
              "    border-radius: 50%;\n",
              "    cursor: pointer;\n",
              "    display: none;\n",
              "    fill: var(--fill-color);\n",
              "    height: 32px;\n",
              "    padding: 0;\n",
              "    width: 32px;\n",
              "  }\n",
              "\n",
              "  .colab-df-quickchart:hover {\n",
              "    background-color: var(--hover-bg-color);\n",
              "    box-shadow: 0 1px 2px rgba(60, 64, 67, 0.3), 0 1px 3px 1px rgba(60, 64, 67, 0.15);\n",
              "    fill: var(--button-hover-fill-color);\n",
              "  }\n",
              "\n",
              "  .colab-df-quickchart-complete:disabled,\n",
              "  .colab-df-quickchart-complete:disabled:hover {\n",
              "    background-color: var(--disabled-bg-color);\n",
              "    fill: var(--disabled-fill-color);\n",
              "    box-shadow: none;\n",
              "  }\n",
              "\n",
              "  .colab-df-spinner {\n",
              "    border: 2px solid var(--fill-color);\n",
              "    border-color: transparent;\n",
              "    border-bottom-color: var(--fill-color);\n",
              "    animation:\n",
              "      spin 1s steps(1) infinite;\n",
              "  }\n",
              "\n",
              "  @keyframes spin {\n",
              "    0% {\n",
              "      border-color: transparent;\n",
              "      border-bottom-color: var(--fill-color);\n",
              "      border-left-color: var(--fill-color);\n",
              "    }\n",
              "    20% {\n",
              "      border-color: transparent;\n",
              "      border-left-color: var(--fill-color);\n",
              "      border-top-color: var(--fill-color);\n",
              "    }\n",
              "    30% {\n",
              "      border-color: transparent;\n",
              "      border-left-color: var(--fill-color);\n",
              "      border-top-color: var(--fill-color);\n",
              "      border-right-color: var(--fill-color);\n",
              "    }\n",
              "    40% {\n",
              "      border-color: transparent;\n",
              "      border-right-color: var(--fill-color);\n",
              "      border-top-color: var(--fill-color);\n",
              "    }\n",
              "    60% {\n",
              "      border-color: transparent;\n",
              "      border-right-color: var(--fill-color);\n",
              "    }\n",
              "    80% {\n",
              "      border-color: transparent;\n",
              "      border-right-color: var(--fill-color);\n",
              "      border-bottom-color: var(--fill-color);\n",
              "    }\n",
              "    90% {\n",
              "      border-color: transparent;\n",
              "      border-bottom-color: var(--fill-color);\n",
              "    }\n",
              "  }\n",
              "</style>\n",
              "\n",
              "      <script>\n",
              "        async function quickchart(key) {\n",
              "          const quickchartButtonEl =\n",
              "            document.querySelector('#' + key + ' button');\n",
              "          quickchartButtonEl.disabled = true;  // To prevent multiple clicks.\n",
              "          quickchartButtonEl.classList.add('colab-df-spinner');\n",
              "          try {\n",
              "            const charts = await google.colab.kernel.invokeFunction(\n",
              "                'suggestCharts', [key], {});\n",
              "          } catch (error) {\n",
              "            console.error('Error during call to suggestCharts:', error);\n",
              "          }\n",
              "          quickchartButtonEl.classList.remove('colab-df-spinner');\n",
              "          quickchartButtonEl.classList.add('colab-df-quickchart-complete');\n",
              "        }\n",
              "        (() => {\n",
              "          let quickchartButtonEl =\n",
              "            document.querySelector('#df-d93139b7-b574-4dce-9899-2c8e6fc237eb button');\n",
              "          quickchartButtonEl.style.display =\n",
              "            google.colab.kernel.accessAllowed ? 'block' : 'none';\n",
              "        })();\n",
              "      </script>\n",
              "    </div>\n",
              "\n",
              "    </div>\n",
              "  </div>\n"
            ],
            "application/vnd.google.colaboratory.intrinsic+json": {
              "type": "dataframe",
              "summary": "{\n  \"name\": \"df_low_pop\",\n  \"rows\": 8,\n  \"fields\": [\n    {\n      \"column\": \"time_signature\",\n      \"properties\": {\n        \"dtype\": \"number\",\n        \"std\": 1110.4428046294822,\n        \"min\": 0.4478265920334109,\n        \"max\": 3144.0,\n        \"num_unique_values\": 6,\n        \"samples\": [\n          3144.0,\n          3.9293893129770994,\n          5.0\n        ],\n        \"semantic_type\": \"\",\n        \"description\": \"\"\n      }\n    },\n    {\n      \"column\": \"track_popularity\",\n      \"properties\": {\n        \"dtype\": \"number\",\n        \"std\": 1098.4411070540007,\n        \"min\": 11.0,\n        \"max\": 3145.0,\n        \"num_unique_values\": 8,\n        \"samples\": [\n          43.479173290938,\n          46.0,\n          3145.0\n        ],\n        \"semantic_type\": \"\",\n        \"description\": \"\"\n      }\n    },\n    {\n      \"column\": \"speechiness\",\n      \"properties\": {\n        \"dtype\": \"number\",\n        \"std\": 1111.5029779847007,\n        \"min\": 0.0219,\n        \"max\": 3144.0,\n        \"num_unique_values\": 8,\n        \"samples\": [\n          0.10217395038167938,\n          0.055,\n          3144.0\n        ],\n        \"semantic_type\": \"\",\n        \"description\": \"\"\n      }\n    },\n    {\n      \"column\": \"danceability\",\n      \"properties\": {\n        \"dtype\": \"number\",\n        \"std\": 1111.3822404507332,\n        \"min\": 0.0589,\n        \"max\": 3144.0,\n        \"num_unique_values\": 8,\n        \"samples\": [\n          0.6072683524173028,\n          0.6495,\n          3144.0\n        ],\n        \"semantic_type\": \"\",\n        \"description\": \"\"\n      }\n    },\n    {\n      \"column\": \"duration_ms\",\n      \"properties\": {\n        \"dtype\": \"number\",\n        \"std\": 441212.70950475166,\n        \"min\": 3144.0,\n        \"max\": 1355260.0,\n        \"num_unique_values\": 8,\n        \"samples\": [\n          201640.17430025444,\n          184641.0,\n          3144.0\n        ],\n        \"semantic_type\": \"\",\n        \"description\": \"\"\n      }\n    },\n    {\n      \"column\": \"energy\",\n      \"properties\": {\n        \"dtype\": \"number\",\n        \"std\": 1111.395018951233,\n        \"min\": 0.000202,\n        \"max\": 3144.0,\n        \"num_unique_values\": 8,\n        \"samples\": [\n          0.5435087652671756,\n          0.592,\n          3144.0\n        ],\n        \"semantic_type\": \"\",\n        \"description\": \"\"\n      }\n    },\n    {\n      \"column\": \"mode\",\n      \"properties\": {\n        \"dtype\": \"number\",\n        \"std\": 1111.3673490091423,\n        \"min\": 0.0,\n        \"max\": 3144.0,\n        \"num_unique_values\": 5,\n        \"samples\": [\n          0.5534351145038168,\n          1.0,\n          0.4972155688532662\n        ],\n        \"semantic_type\": \"\",\n        \"description\": \"\"\n      }\n    },\n    {\n      \"column\": \"instrumentalness\",\n      \"properties\": {\n        \"dtype\": \"number\",\n        \"std\": 1111.447580828438,\n        \"min\": 0.0,\n        \"max\": 3144.0,\n        \"num_unique_values\": 7,\n        \"samples\": [\n          3144.0,\n          0.28660321121501275,\n          0.788\n        ],\n        \"semantic_type\": \"\",\n        \"description\": \"\"\n      }\n    },\n    {\n      \"column\": \"valence\",\n      \"properties\": {\n        \"dtype\": \"number\",\n        \"std\": 1111.4149116730594,\n        \"min\": 0.0296,\n        \"max\": 3144.0,\n        \"num_unique_values\": 8,\n        \"samples\": [\n          0.45843765903307887,\n          0.462,\n          3144.0\n        ],\n        \"semantic_type\": \"\",\n        \"description\": \"\"\n      }\n    },\n    {\n      \"column\": \"key\",\n      \"properties\": {\n        \"dtype\": \"number\",\n        \"std\": 1109.8223133704362,\n        \"min\": 0.0,\n        \"max\": 3144.0,\n        \"num_unique_values\": 8,\n        \"samples\": [\n          5.177162849872774,\n          5.0,\n          3144.0\n        ],\n        \"semantic_type\": \"\",\n        \"description\": \"\"\n      }\n    },\n    {\n      \"column\": \"tempo\",\n      \"properties\": {\n        \"dtype\": \"number\",\n        \"std\": 1073.9185159396704,\n        \"min\": 29.152399743479883,\n        \"max\": 3144.0,\n        \"num_unique_values\": 8,\n        \"samples\": [\n          116.76688422391858,\n          116.05199999999999,\n          3144.0\n        ],\n        \"semantic_type\": \"\",\n        \"description\": \"\"\n      }\n    },\n    {\n      \"column\": \"loudness\",\n      \"properties\": {\n        \"dtype\": \"number\",\n        \"std\": 1115.4893398123806,\n        \"min\": -48.069,\n        \"max\": 3144.0,\n        \"num_unique_values\": 8,\n        \"samples\": [\n          -10.663833333333335,\n          -8.026,\n          3144.0\n        ],\n        \"semantic_type\": \"\",\n        \"description\": \"\"\n      }\n    },\n    {\n      \"column\": \"acousticness\",\n      \"properties\": {\n        \"dtype\": \"number\",\n        \"std\": 1111.4269920204074,\n        \"min\": 3.59e-06,\n        \"max\": 3144.0,\n        \"num_unique_values\": 8,\n        \"samples\": [\n          0.40556674458651404,\n          0.316,\n          3144.0\n        ],\n        \"semantic_type\": \"\",\n        \"description\": \"\"\n      }\n    },\n    {\n      \"column\": \"liveness\",\n      \"properties\": {\n        \"dtype\": \"number\",\n        \"std\": 1111.4864157638976,\n        \"min\": 0.022,\n        \"max\": 3144.0,\n        \"num_unique_values\": 8,\n        \"samples\": [\n          0.1654867684478372,\n          0.116,\n          3144.0\n        ],\n        \"semantic_type\": \"\",\n        \"description\": \"\"\n      }\n    }\n  ]\n}"
            }
          },
          "metadata": {},
          "execution_count": 10
        }
      ]
    },
    {
      "cell_type": "markdown",
      "source": [
        "Kode di atas menampilkan informasi deskripsi statistik dari dataset low_popularity_spotify_data.csv yang terdiri dari jumlah baris, rata-rata, standar deviasi, jumlah minimal, Quartal 1, Quartal 2, Quartal 3, dan jumlah maksimal dari setiap kolom."
      ],
      "metadata": {
        "id": "2E4T6CClyDC_"
      }
    },
    {
      "cell_type": "code",
      "source": [
        "print(\"Jumlah missing values per kolom pada Data Low Popularity:\")\n",
        "print(df_low_pop.isnull().sum())"
      ],
      "metadata": {
        "colab": {
          "base_uri": "https://localhost:8080/"
        },
        "id": "ANm7UtRF9YXc",
        "outputId": "76c88e1d-6a4f-4718-c444-ccfb7dfc3a65"
      },
      "execution_count": null,
      "outputs": [
        {
          "output_type": "stream",
          "name": "stdout",
          "text": [
            "Jumlah missing values per kolom pada Data Low Popularity:\n",
            "time_signature              1\n",
            "track_popularity            0\n",
            "speechiness                 1\n",
            "danceability                1\n",
            "playlist_name               0\n",
            "track_artist                0\n",
            "duration_ms                 1\n",
            "energy                      1\n",
            "playlist_genre              0\n",
            "playlist_subgenre           0\n",
            "track_href                  1\n",
            "track_name                  0\n",
            "mode                        1\n",
            "uri                         1\n",
            "type                        1\n",
            "track_album_release_date    0\n",
            "analysis_url                1\n",
            "id                          1\n",
            "instrumentalness            1\n",
            "track_album_id              0\n",
            "playlist_id                 0\n",
            "track_id                    0\n",
            "valence                     1\n",
            "key                         1\n",
            "tempo                       1\n",
            "loudness                    1\n",
            "acousticness                1\n",
            "liveness                    1\n",
            "track_album_name            0\n",
            "dtype: int64\n"
          ]
        }
      ]
    },
    {
      "cell_type": "markdown",
      "source": [
        "Dalam pengecekan dataset dari missing value, ditemukan 1 dalam kolom time_signature, 1 dalam kolom speechiness, 1 dalam kolom danceability, 1 dalam kolom duration_ms, 1 dalam kolom energy, 1 dalam kolom id, 1 dalam kolom track_href, 1 dalam kolom mode, 1 dalam kolom uri, 1 dalam kolom type, 1 dalam kolom analysis_url, 1 dalam kolom instrumentalness, 1 dalam kolom valenve, 1 dalam kolom key, 1 dalam kolom tempo, 1 dalam kolom loudnesss, 1 dalam kolom acousticness, dan 1 dalam kolom liveness."
      ],
      "metadata": {
        "id": "_WLsu3_ryF5A"
      }
    },
    {
      "cell_type": "code",
      "source": [
        "print(\"\\nJumlah baris duplikat pada Data Low Popularity:\")\n",
        "num_duplicates = df_low_pop.duplicated().sum()\n",
        "print(num_duplicates)"
      ],
      "metadata": {
        "colab": {
          "base_uri": "https://localhost:8080/"
        },
        "id": "93heKg5e-Ehf",
        "outputId": "21bcd906-7618-442e-dca9-239a391ba50f"
      },
      "execution_count": null,
      "outputs": [
        {
          "output_type": "stream",
          "name": "stdout",
          "text": [
            "\n",
            "Jumlah baris duplikat pada Data Low Popularity:\n",
            "0\n"
          ]
        }
      ]
    },
    {
      "cell_type": "markdown",
      "source": [
        "Dataset low_popularity_spotify_data.csv tidak terdapat data atau bariss yang duplikat."
      ],
      "metadata": {
        "id": "VnHNHoEuy8yA"
      }
    },
    {
      "cell_type": "markdown",
      "source": [
        "## Data Preparation"
      ],
      "metadata": {
        "id": "sUlq0VoRyptV"
      }
    },
    {
      "cell_type": "markdown",
      "source": [
        "Penanganan Missing Value pada High_Popularity"
      ],
      "metadata": {
        "id": "dg4skmSnAtWm"
      }
    },
    {
      "cell_type": "code",
      "source": [
        "# Daftar kolom yang memiliki missing value hanya di track_album_name\n",
        "text_cols_high_pop = ['track_album_name']\n",
        "# Filter kolom yang benar-benar ada dan bertipe objek/string\n",
        "text_cols_high_pop_exist = [\n",
        "    col for col in text_cols_high_pop\n",
        "    if col in df_high_pop.columns and df_high_pop[col].dtype == 'object'\n",
        "]\n",
        "\n",
        "if text_cols_high_pop_exist:\n",
        "    print(f\"Mengisi missing values kolom teks/kategorikal ({len(text_cols_high_pop_exist)} kolom) pada df_high_pop: {text_cols_high_pop_exist}\")\n",
        "    for col in text_cols_high_pop_exist:\n",
        "        df_high_pop[col] = df_high_pop[col].fillna('')\n",
        "        df_high_pop[col] = df_high_pop[col].astype(str)\n",
        "\n",
        "print(\"Penanganan missing values pada df_high_pop selesai.\")\n",
        "print(\"Jumlah missing values pada Data High Popularity setelah penanganan:\")\n",
        "print(df_high_pop.isnull().sum().sum(), \"total missing values.\")"
      ],
      "metadata": {
        "colab": {
          "base_uri": "https://localhost:8080/"
        },
        "id": "36rOHyKOAv9L",
        "outputId": "f2db9b83-aa63-4ed1-c7c3-00775123d64e"
      },
      "execution_count": null,
      "outputs": [
        {
          "output_type": "stream",
          "name": "stdout",
          "text": [
            "Mengisi missing values kolom teks/kategorikal (1 kolom) pada df_high_pop: ['track_album_name']\n",
            "Penanganan missing values pada df_high_pop selesai.\n",
            "Jumlah missing values pada Data High Popularity setelah penanganan:\n",
            "0 total missing values.\n"
          ]
        }
      ]
    },
    {
      "cell_type": "markdown",
      "source": [
        "Penanganan missing value dilakukan pada kolom track_album_name pada data set high_popularity_spotify_data.csv"
      ],
      "metadata": {
        "id": "II4jp9kZzONe"
      }
    },
    {
      "cell_type": "markdown",
      "source": [
        "**Penanganan Missing Value pada Low_Popularity**"
      ],
      "metadata": {
        "id": "26q8IVyLzjf5"
      }
    },
    {
      "cell_type": "code",
      "source": [
        "# Daftar kolom teks/kategorikal yang memiliki missing value di df_low_pop yaitu 'track_href', 'uri', 'type', 'analysis_url', 'id'\n",
        "text_id_cols_low_pop = ['track_href', 'uri', 'type', 'analysis_url', 'id']\n",
        "# Filter kolom yang benar-benar ada dan bertipe objek/string\n",
        "text_id_cols_low_pop_exist = [\n",
        "    col for col in text_id_cols_low_pop\n",
        "    if col in df_low_pop.columns and df_low_pop[col].dtype == 'object'\n",
        "]\n",
        "\n",
        "if text_id_cols_low_pop_exist:\n",
        "    print(f\"Mengisi missing values kolom teks/ID ({len(text_id_cols_low_pop_exist)} kolom) pada df_low_pop: {text_id_cols_low_pop_exist}\")\n",
        "    for col in text_id_cols_low_pop_exist:\n",
        "        df_low_pop[col] = df_low_pop[col].fillna('')\n",
        "        df_low_pop[col] = df_low_pop[col].astype(str)\n",
        "\n",
        "\n",
        "# Daftar kolom numerik yang memiliki missing value di df_low_pop\n",
        "numeric_cols_low_pop = [\n",
        "    'time_signature', 'speechiness', 'danceability', 'duration_ms',\n",
        "    'energy', 'mode', 'instrumentalness', 'valence', 'key', 'tempo',\n",
        "    'loudness', 'acousticness', 'liveness'\n",
        "]\n",
        "# Filter kolom numerik yang benar-benar ada dan bertipe numerik\n",
        "numeric_cols_low_pop_exist = [\n",
        "     col for col in numeric_cols_low_pop\n",
        "     if col in df_low_pop.columns and pd.api.types.is_numeric_dtype(df_low_pop[col])\n",
        "]\n",
        "\n",
        "\n",
        "if numeric_cols_low_pop_exist:\n",
        "    print(f\"Mengisi missing values kolom numerik ({len(numeric_cols_low_pop_exist)} kolom) pada df_low_pop: {numeric_cols_low_pop_exist}\")\n",
        "    for col in numeric_cols_low_pop_exist:\n",
        "        # Pastikan kolom bertipe numerik sebelum menghitung median\n",
        "        if pd.api.types.is_numeric_dtype(df_low_pop[col]):\n",
        "             median_val = df_low_pop[col].median()\n",
        "             df_low_pop[col] = df_low_pop[col].fillna(median_val)\n",
        "        else:\n",
        "             print(f\"Peringatan (Low Pop Handling): Kolom '{col}' bukan tipe numerik, tidak diisi NaN dengan median.\")\n",
        "\n",
        "\n",
        "print(\"Penanganan missing values pada df_low_pop selesai.\")\n",
        "print(\"Jumlah missing values pada Data Low Popularity setelah penanganan:\")\n",
        "print(df_low_pop.isnull().sum().sum(), \"total missing values.\")"
      ],
      "metadata": {
        "colab": {
          "base_uri": "https://localhost:8080/"
        },
        "id": "uVKx3HJ0Ce8e",
        "outputId": "a4b36a62-e820-4532-cdda-278b148de0bf"
      },
      "execution_count": null,
      "outputs": [
        {
          "output_type": "stream",
          "name": "stdout",
          "text": [
            "Mengisi missing values kolom teks/ID (5 kolom) pada df_low_pop: ['track_href', 'uri', 'type', 'analysis_url', 'id']\n",
            "Mengisi missing values kolom numerik (13 kolom) pada df_low_pop: ['time_signature', 'speechiness', 'danceability', 'duration_ms', 'energy', 'mode', 'instrumentalness', 'valence', 'key', 'tempo', 'loudness', 'acousticness', 'liveness']\n",
            "Penanganan missing values pada df_low_pop selesai.\n",
            "Jumlah missing values pada Data Low Popularity setelah penanganan:\n",
            "0 total missing values.\n"
          ]
        }
      ]
    },
    {
      "cell_type": "markdown",
      "source": [
        "Penanganan missing value pada low_popularity dilakukan pada kolom-kolom yang memiliki missing value."
      ],
      "metadata": {
        "id": "nVoPoNlnzoJ3"
      }
    },
    {
      "cell_type": "markdown",
      "source": [
        "Penggabungan Data Set"
      ],
      "metadata": {
        "id": "uoAif1YA_OtY"
      }
    },
    {
      "cell_type": "code",
      "source": [
        "df_combined = pd.concat([df_high_pop, df_low_pop], ignore_index=True, sort=False)\n",
        "\n",
        "print(f\"Jumlah baris total setelah digabung: {df_combined.shape[0]}\")\n",
        "print(f\"Jumlah kolom setelah digabung: {df_combined.shape[1]}\")"
      ],
      "metadata": {
        "colab": {
          "base_uri": "https://localhost:8080/"
        },
        "id": "EIfsDacC_Hq7",
        "outputId": "08a5e878-e62f-474c-c3dd-efdb6ce79b25"
      },
      "execution_count": null,
      "outputs": [
        {
          "output_type": "stream",
          "name": "stdout",
          "text": [
            "Jumlah baris total setelah digabung: 4831\n",
            "Jumlah kolom setelah digabung: 29\n"
          ]
        }
      ]
    },
    {
      "cell_type": "markdown",
      "source": [
        "kedua dataset digabung menjadi satu dengan fungsi df_combined dan memiliki 29 kolom dan 4831 baris."
      ],
      "metadata": {
        "id": "tRogWNfvzuug"
      }
    },
    {
      "cell_type": "code",
      "source": [
        "# Gunakan df_combined sebagai variabel utama 'df'\n",
        "df = df_combined.copy()"
      ],
      "metadata": {
        "id": "Q8qCfslK_fBM"
      },
      "execution_count": null,
      "outputs": []
    },
    {
      "cell_type": "markdown",
      "source": [
        "Menggunakan fungsi df sebagai variabel utama."
      ],
      "metadata": {
        "id": "xMcEJ2pbz4lf"
      }
    },
    {
      "cell_type": "markdown",
      "source": [
        "Pengecekan kembali dataset gabungan"
      ],
      "metadata": {
        "id": "oprdmAPu_kmz"
      }
    },
    {
      "cell_type": "code",
      "source": [
        "print(\"\\nTampilan 5 baris pertama DataFrame gabungan:\")\n",
        "print(df.head())"
      ],
      "metadata": {
        "colab": {
          "base_uri": "https://localhost:8080/"
        },
        "id": "pKU4xqCm_hyl",
        "outputId": "6de74208-58ea-4958-bfdb-48dfd6a0f0d1"
      },
      "execution_count": null,
      "outputs": [
        {
          "output_type": "stream",
          "name": "stdout",
          "text": [
            "\n",
            "Tampilan 5 baris pertama DataFrame gabungan:\n",
            "   energy    tempo  danceability playlist_genre  loudness  liveness  valence  \\\n",
            "0   0.592  157.969         0.521            pop    -7.777     0.122    0.535   \n",
            "1   0.507  104.978         0.747            pop   -10.171     0.117    0.438   \n",
            "2   0.808  108.548         0.554            pop    -4.169     0.159    0.372   \n",
            "3   0.910  112.966         0.670            pop    -4.070     0.304    0.786   \n",
            "4   0.783  149.027         0.777            pop    -4.477     0.355    0.939   \n",
            "\n",
            "            track_artist  time_signature  speechiness  ...  instrumentalness  \\\n",
            "0  Lady Gaga, Bruno Mars             3.0       0.0304  ...            0.0000   \n",
            "1          Billie Eilish             4.0       0.0358  ...            0.0608   \n",
            "2          Gracie Abrams             4.0       0.0368  ...            0.0000   \n",
            "3      Sabrina Carpenter             4.0       0.0634  ...            0.0000   \n",
            "4       ROSÉ, Bruno Mars             4.0       0.2600  ...            0.0000   \n",
            "\n",
            "           track_album_id mode  key duration_ms acousticness  \\\n",
            "0  10FLjwfpbxLmW8c25Xyc2N  0.0  6.0    251668.0       0.3080   \n",
            "1  7aJuG4TFXa2hmE4z1yxc3n  1.0  2.0    210373.0       0.2000   \n",
            "2  0hBRqPYPXhr1RkTDG3n4Mk  1.0  1.0    166300.0       0.2140   \n",
            "3  4B4Elma4nNDUyl6D5PvQkj  0.0  0.0    157280.0       0.0939   \n",
            "4  2IYQwwgxgOIn7t3iF6ufFD  0.0  0.0    169917.0       0.0283   \n",
            "\n",
            "                       id playlist_subgenre            type  \\\n",
            "0  2plbrEY59IikOBgBGLjaoe        mainstream  audio_features   \n",
            "1  6dOtVTDdiauQNBQEDOtlAB        mainstream  audio_features   \n",
            "2  7ne4VBA60CxGM75vw0EYad        mainstream  audio_features   \n",
            "3  1d7Ptw3qYcfpdLNL5REhtJ        mainstream  audio_features   \n",
            "4  5vNRhkKd0yEAg8suGBpjeY        mainstream  audio_features   \n",
            "\n",
            "              playlist_id  \n",
            "0  37i9dQZF1DXcBWIGoYBM5M  \n",
            "1  37i9dQZF1DXcBWIGoYBM5M  \n",
            "2  37i9dQZF1DXcBWIGoYBM5M  \n",
            "3  37i9dQZF1DXcBWIGoYBM5M  \n",
            "4  37i9dQZF1DXcBWIGoYBM5M  \n",
            "\n",
            "[5 rows x 29 columns]\n"
          ]
        }
      ]
    },
    {
      "cell_type": "markdown",
      "source": [
        "Menampilkan 5 baris pertama dari dataset gabungan."
      ],
      "metadata": {
        "id": "BJRlmy7_0AOt"
      }
    },
    {
      "cell_type": "code",
      "source": [
        "df.info()"
      ],
      "metadata": {
        "colab": {
          "base_uri": "https://localhost:8080/"
        },
        "id": "QLW4b39dAa6K",
        "outputId": "d149b216-bbe0-41c2-c12e-6a3eab787827"
      },
      "execution_count": null,
      "outputs": [
        {
          "output_type": "stream",
          "name": "stdout",
          "text": [
            "<class 'pandas.core.frame.DataFrame'>\n",
            "RangeIndex: 4831 entries, 0 to 4830\n",
            "Data columns (total 29 columns):\n",
            " #   Column                    Non-Null Count  Dtype  \n",
            "---  ------                    --------------  -----  \n",
            " 0   energy                    4831 non-null   float64\n",
            " 1   tempo                     4831 non-null   float64\n",
            " 2   danceability              4831 non-null   float64\n",
            " 3   playlist_genre            4831 non-null   object \n",
            " 4   loudness                  4831 non-null   float64\n",
            " 5   liveness                  4831 non-null   float64\n",
            " 6   valence                   4831 non-null   float64\n",
            " 7   track_artist              4831 non-null   object \n",
            " 8   time_signature            4831 non-null   float64\n",
            " 9   speechiness               4831 non-null   float64\n",
            " 10  track_popularity          4831 non-null   int64  \n",
            " 11  track_href                4831 non-null   object \n",
            " 12  uri                       4831 non-null   object \n",
            " 13  track_album_name          4831 non-null   object \n",
            " 14  playlist_name             4831 non-null   object \n",
            " 15  analysis_url              4831 non-null   object \n",
            " 16  track_id                  4831 non-null   object \n",
            " 17  track_name                4831 non-null   object \n",
            " 18  track_album_release_date  4831 non-null   object \n",
            " 19  instrumentalness          4831 non-null   float64\n",
            " 20  track_album_id            4831 non-null   object \n",
            " 21  mode                      4831 non-null   float64\n",
            " 22  key                       4831 non-null   float64\n",
            " 23  duration_ms               4831 non-null   float64\n",
            " 24  acousticness              4831 non-null   float64\n",
            " 25  id                        4831 non-null   object \n",
            " 26  playlist_subgenre         4831 non-null   object \n",
            " 27  type                      4831 non-null   object \n",
            " 28  playlist_id               4831 non-null   object \n",
            "dtypes: float64(13), int64(1), object(15)\n",
            "memory usage: 1.1+ MB\n"
          ]
        }
      ]
    },
    {
      "cell_type": "markdown",
      "source": [
        "Dataset memiliki 29 kolom atau fitur"
      ],
      "metadata": {
        "id": "wBagc8wj0Kje"
      }
    },
    {
      "cell_type": "code",
      "source": [
        "print(\"Jumlah missing values per kolom pada DataFrame gabungan:\")\n",
        "print(df.isnull().sum())"
      ],
      "metadata": {
        "colab": {
          "base_uri": "https://localhost:8080/"
        },
        "id": "GGfjb0iHAga2",
        "outputId": "065c9a24-f30b-42ab-9e5e-28c7b1c59506"
      },
      "execution_count": null,
      "outputs": [
        {
          "output_type": "stream",
          "name": "stdout",
          "text": [
            "Jumlah missing values per kolom pada DataFrame gabungan:\n",
            "energy                      0\n",
            "tempo                       0\n",
            "danceability                0\n",
            "playlist_genre              0\n",
            "loudness                    0\n",
            "liveness                    0\n",
            "valence                     0\n",
            "track_artist                0\n",
            "time_signature              0\n",
            "speechiness                 0\n",
            "track_popularity            0\n",
            "track_href                  0\n",
            "uri                         0\n",
            "track_album_name            0\n",
            "playlist_name               0\n",
            "analysis_url                0\n",
            "track_id                    0\n",
            "track_name                  0\n",
            "track_album_release_date    0\n",
            "instrumentalness            0\n",
            "track_album_id              0\n",
            "mode                        0\n",
            "key                         0\n",
            "duration_ms                 0\n",
            "acousticness                0\n",
            "id                          0\n",
            "playlist_subgenre           0\n",
            "type                        0\n",
            "playlist_id                 0\n",
            "dtype: int64\n"
          ]
        }
      ]
    },
    {
      "cell_type": "markdown",
      "source": [
        "Dataset gabungan tidak terdapat missing value."
      ],
      "metadata": {
        "id": "VsPhOAOs0Lzo"
      }
    },
    {
      "cell_type": "code",
      "source": [
        "print(\"\\nJumlah baris duplikat pada Data Gabungan:\")\n",
        "num_duplicates = df.duplicated().sum()\n",
        "print(num_duplicates)"
      ],
      "metadata": {
        "colab": {
          "base_uri": "https://localhost:8080/"
        },
        "id": "fQYcD2blDAt8",
        "outputId": "c907ed0d-df27-4a85-dd7b-17f054362704"
      },
      "execution_count": null,
      "outputs": [
        {
          "output_type": "stream",
          "name": "stdout",
          "text": [
            "\n",
            "Jumlah baris duplikat pada Data Gabungan:\n",
            "43\n"
          ]
        }
      ]
    },
    {
      "cell_type": "markdown",
      "source": [
        "Dataset gabungan memiliki 43 baris duplikat yang harus ditangani."
      ],
      "metadata": {
        "id": "bjVVlgRU0QQ_"
      }
    },
    {
      "cell_type": "code",
      "source": [
        "if num_duplicates > 0:\n",
        "  print(f\"Menghapus {num_duplicates} baris duplikat...\")\n",
        "df = df.drop_duplicates().reset_index(drop=True)\n",
        "print(f\"Jumlah baris setelah menghapus duplikat: {df.shape[0]}\")\n"
      ],
      "metadata": {
        "colab": {
          "base_uri": "https://localhost:8080/"
        },
        "id": "xQDyUliEDcFR",
        "outputId": "5f8a6487-026c-4b98-9d06-3b44063af51a"
      },
      "execution_count": null,
      "outputs": [
        {
          "output_type": "stream",
          "name": "stdout",
          "text": [
            "Menghapus 43 baris duplikat...\n",
            "Jumlah baris setelah menghapus duplikat: 4788\n"
          ]
        }
      ]
    },
    {
      "cell_type": "markdown",
      "source": [
        "Data duplikat pada dataset gabungan ditangani dengan cara dihapus dan sekarang dataset gabungan memiliki 4.788 baris."
      ],
      "metadata": {
        "id": "WAzVxwV00VXO"
      }
    },
    {
      "cell_type": "code",
      "source": [
        "print(\"\\nJumlah baris duplikat pada Data Gabungan:\")\n",
        "num_duplicates = df.duplicated().sum()\n",
        "print(num_duplicates)"
      ],
      "metadata": {
        "colab": {
          "base_uri": "https://localhost:8080/"
        },
        "id": "cLwpxmXjDqHm",
        "outputId": "6019f4aa-0583-4c99-ac7d-07656cd0a8e0"
      },
      "execution_count": null,
      "outputs": [
        {
          "output_type": "stream",
          "name": "stdout",
          "text": [
            "\n",
            "Jumlah baris duplikat pada Data Gabungan:\n",
            "0\n"
          ]
        }
      ]
    },
    {
      "cell_type": "markdown",
      "source": [
        "Pengecekan kembali setelah ditangani dan tidak terdapat data duplikat."
      ],
      "metadata": {
        "id": "oGMyFIiu0eeM"
      }
    },
    {
      "cell_type": "code",
      "source": [
        "# Statistik deskriptif untuk kolom numerik pada DataFrame gabungan\n",
        "print(\"\\nStatistik deskriptif untuk kolom numerik pada DataFrame gabungan:\")\n",
        "numeric_cols_for_describe = df.select_dtypes(include=np.number).columns.tolist()\n",
        "print(df[numeric_cols_for_describe].describe())"
      ],
      "metadata": {
        "colab": {
          "base_uri": "https://localhost:8080/"
        },
        "id": "JXuDuOmRDvOA",
        "outputId": "2c651f02-1ce0-4be3-e74f-8fbf8de50985"
      },
      "execution_count": null,
      "outputs": [
        {
          "output_type": "stream",
          "name": "stdout",
          "text": [
            "\n",
            "Statistik deskriptif untuk kolom numerik pada DataFrame gabungan:\n",
            "            energy        tempo  danceability     loudness     liveness  \\\n",
            "count  4788.000000  4788.000000   4788.000000  4788.000000  4788.000000   \n",
            "mean      0.585854   118.246031      0.621830    -9.299310     0.167740   \n",
            "std       0.246683    28.488068      0.187927     7.142273     0.124638   \n",
            "min       0.000202    48.232000      0.058900   -48.069000     0.021000   \n",
            "25%       0.440750    96.090000      0.524000   -10.327000     0.095400   \n",
            "50%       0.632000   118.028000      0.653000    -7.215000     0.118000   \n",
            "75%       0.776000   136.706500      0.757000    -5.339000     0.195000   \n",
            "max       0.998000   241.426000      0.979000     1.318000     0.979000   \n",
            "\n",
            "           valence  time_signature  speechiness  track_popularity  \\\n",
            "count  4788.000000     4788.000000  4788.000000       4788.000000   \n",
            "mean      0.481406        3.936090     0.101245         54.642231   \n",
            "std       0.258269        0.410445     0.100733         19.877514   \n",
            "min       0.029600        1.000000     0.021900         11.000000   \n",
            "25%       0.273000        4.000000     0.038500         41.000000   \n",
            "50%       0.482000        4.000000     0.055900         55.000000   \n",
            "75%       0.690000        4.000000     0.117000         72.000000   \n",
            "max       0.987000        5.000000     0.927000        100.000000   \n",
            "\n",
            "       instrumentalness         mode          key   duration_ms  acousticness  \n",
            "count       4788.000000  4788.000000  4788.000000  4.788000e+03   4788.000000  \n",
            "mean           0.202361     0.563074     5.229532  2.061934e+05      0.342060  \n",
            "std            0.352738     0.496057     3.580310  8.195337e+04      0.325876  \n",
            "min            0.000000     0.000000     0.000000  3.537500e+04      0.000004  \n",
            "25%            0.000000     0.000000     2.000000  1.589968e+05      0.052700  \n",
            "50%            0.000096     1.000000     5.000000  1.948835e+05      0.225000  \n",
            "75%            0.207250     1.000000     8.000000  2.335260e+05      0.593000  \n",
            "max            0.991000     1.000000    11.000000  1.355260e+06      0.996000  \n"
          ]
        }
      ]
    },
    {
      "cell_type": "markdown",
      "source": [
        "Kode di atas menampilkan informasi deskripsi statistik dari dataset gabungan yang terdiri dari jumlah baris, rata-rata, standar deviasi, jumlah minimal, Quartal 1, Quartal 2, Quartal 3, dan jumlah maksimal dari setiap kolom."
      ],
      "metadata": {
        "id": "NCTQLHFf0pYs"
      }
    },
    {
      "cell_type": "code",
      "source": [
        "# Melihat nilai unik pada kolom kategorikal penting\n",
        "categorical_cols_to_check = ['playlist_genre', 'playlist_subgenre', 'track_artist']"
      ],
      "metadata": {
        "id": "S5QdjEnUD1HV"
      },
      "execution_count": null,
      "outputs": []
    },
    {
      "cell_type": "markdown",
      "source": [
        "Kode di atas digunakan untuk melihat nilai unik pada kolom kategorikal penting."
      ],
      "metadata": {
        "id": "p2Ha9o0d0vke"
      }
    },
    {
      "cell_type": "code",
      "source": [
        "print(\"\\nPengecekan Kolom Kategorikal/Tekstual Penting pada DataFrame gabungan:\")\n",
        "for col in categorical_cols_to_check:\n",
        "    if col in df.columns:\n",
        "        print(f\"\\nJumlah nilai unik pada kolom '{col}':\")\n",
        "        print(df[col].nunique())\n",
        "        print(f\"Contoh '{col}' (10 nilai pertama):\")\n",
        "        print(df[col].astype(str).fillna('').unique()[:10])\n",
        "    else:\n",
        "        print(f\"\\nPeringatan: Kolom '{col}' tidak ditemukan dalam DataFrame gabungan.\")\n"
      ],
      "metadata": {
        "colab": {
          "base_uri": "https://localhost:8080/"
        },
        "id": "TZeWjRlAD5pp",
        "outputId": "431244ba-c3fd-4ddb-852a-2776d7eeced5"
      },
      "execution_count": null,
      "outputs": [
        {
          "output_type": "stream",
          "name": "stdout",
          "text": [
            "\n",
            "Pengecekan Kolom Kategorikal/Tekstual Penting pada DataFrame gabungan:\n",
            "\n",
            "Jumlah nilai unik pada kolom 'playlist_genre':\n",
            "35\n",
            "Contoh 'playlist_genre' (10 nilai pertama):\n",
            "['pop' 'rock' 'jazz' 'classical' 'hip-hop' 'afrobeats' 'latin' 'indian'\n",
            " 'country' 'r&b']\n",
            "\n",
            "Jumlah nilai unik pada kolom 'playlist_subgenre':\n",
            "84\n",
            "Contoh 'playlist_subgenre' (10 nilai pertama):\n",
            "['mainstream' 'classic' 'essential' 'modern' 'gangster' 'trap' 'nigerian'\n",
            " 'hip-hop' 'bollywood' 'indie']\n",
            "\n",
            "Jumlah nilai unik pada kolom 'track_artist':\n",
            "3390\n",
            "Contoh 'track_artist' (10 nilai pertama):\n",
            "['Lady Gaga, Bruno Mars' 'Billie Eilish' 'Gracie Abrams'\n",
            " 'Sabrina Carpenter' 'ROSÉ, Bruno Mars' 'Chappell Roan' 'Addison Rae'\n",
            " 'Gigi Perez' 'The Weeknd, Playboi Carti' 'Charli xcx, Billie Eilish']\n"
          ]
        }
      ]
    },
    {
      "cell_type": "markdown",
      "source": [
        "Hasil pengecekan data unik pada kolom kategorikal dimana terdapat 35 pada kolom playlist_genre, 84 pada kolom playlist_subgenre, dan 3.390 pada kolom track_artist."
      ],
      "metadata": {
        "id": "iC8JF6pH04CB"
      }
    },
    {
      "cell_type": "markdown",
      "source": [
        "**Visualisasi Data Gabungan**"
      ],
      "metadata": {
        "id": "tLBi0Bac1R8b"
      }
    },
    {
      "cell_type": "code",
      "source": [
        "# Visualisasi Distribusi Fitur Numerik (Fitur Audio dan Popularitas)\n",
        "numeric_cols_for_viz = [\n",
        "    'danceability', 'energy', 'valence', 'tempo', 'loudness',\n",
        "    'acousticness', 'instrumentalness', 'liveness', 'speechiness',\n",
        "    'duration_ms', 'track_popularity'\n",
        "]\n",
        "numeric_cols_for_viz_exist = [col for col in numeric_cols_for_viz if col in df.columns and pd.api.types.is_numeric_dtype(df[col])]\n",
        "\n",
        "if numeric_cols_for_viz_exist:\n",
        "    print(\"Membuat histogram untuk fitur numerik...\")\n",
        "    n_cols = 3\n",
        "    n_rows = (len(numeric_cols_for_viz_exist) + n_cols - 1) // n_cols\n",
        "    fig, axes = plt.subplots(n_rows, n_cols, figsize=(n_cols * 5, n_rows * 4))\n",
        "    axes = axes.flatten()\n",
        "\n",
        "    for i, col in enumerate(numeric_cols_for_viz_exist):\n",
        "        if not df[col].dropna().empty:\n",
        "             sns.histplot(df[col].dropna(), bins=30, kde=True, ax=axes[i])\n",
        "             axes[i].set_title(f'Distribusi {col}')\n",
        "             axes[i].set_xlabel(col)\n",
        "             axes[i].set_ylabel('Frekuensi')\n",
        "        else:\n",
        "             fig.delaxes(axes[i])\n",
        "\n",
        "    for j in range(i + 1, len(axes)):\n",
        "        fig.delaxes(axes[j])\n",
        "\n",
        "    plt.suptitle('Distribusi Fitur Numerik (DataFrame Gabungan)', y=1.02, ha='center', fontsize=16)\n",
        "    plt.tight_layout()\n",
        "    plt.show()\n"
      ],
      "metadata": {
        "colab": {
          "base_uri": "https://localhost:8080/",
          "height": 1000
        },
        "id": "U1QSIq9HD9bw",
        "outputId": "747fe223-d041-4d05-fa9d-01471e52a732"
      },
      "execution_count": null,
      "outputs": [
        {
          "output_type": "stream",
          "name": "stdout",
          "text": [
            "Membuat histogram untuk fitur numerik...\n"
          ]
        },
        {
          "output_type": "display_data",
          "data": {
            "text/plain": [
              "<Figure size 1500x1600 with 11 Axes>"
            ],
            "image/png": "[encoded data removed]"
          },
          "metadata": {}
        }
      ]
    },
    {
      "cell_type": "markdown",
      "source": [
        "Visualisasi di atas merupakan grafik dari distribusi frekuensi pada danceability, energy, valence, tempo, loudness, acousticness, instrumentalness, liveness, speechiness, duration_ms, dan track_popularity."
      ],
      "metadata": {
        "id": "bp2i0gyK1hg2"
      }
    },
    {
      "cell_type": "code",
      "source": [
        "# Visualisasi Distribusi Kolom Kategorikal Penting (Genre, Subgenre)\n",
        "categorical_cols_for_viz = ['playlist_genre', 'playlist_subgenre']\n",
        "categorical_cols_for_viz_exist = [col for col in categorical_cols_for_viz if col in df.columns]\n",
        "\n",
        "if categorical_cols_for_viz_exist:\n",
        "    for col in categorical_cols_for_viz_exist:\n",
        "        plt.figure(figsize=(12, 6))\n",
        "        top_categories = df[col].astype(str).value_counts().nlargest(20)\n",
        "        if not top_categories.empty and top_categories.sum() > 0: # Cek jika ada data non-NaN dan hitungannya > 0\n",
        "            sns.barplot(x=top_categories.index, y=top_categories.values, palette='viridis')\n",
        "            plt.title(f'Distribusi Top {len(top_categories)} {col} (DataFrame Gabungan)')\n",
        "            plt.xlabel(col)\n",
        "            plt.ylabel('Jumlah Lagu')\n",
        "            plt.xticks(rotation=45, ha='right')\n",
        "            plt.tight_layout()\n",
        "            plt.show()\n",
        "        else:\n",
        "             print(f\"Tidak ada data valid atau hitungan > 0 untuk membuat plot distribusi '{col}'.\")"
      ],
      "metadata": {
        "colab": {
          "base_uri": "https://localhost:8080/",
          "height": 1000
        },
        "id": "DoP6BxdnEH6k",
        "outputId": "b1fc75af-29f5-434b-b76b-41cc6d392a83"
      },
      "execution_count": null,
      "outputs": [
        {
          "output_type": "stream",
          "name": "stderr",
          "text": [
            "<ipython-input-27-626f38816c7f>:10: FutureWarning: \n",
            "\n",
            "Passing `palette` without assigning `hue` is deprecated and will be removed in v0.14.0. Assign the `x` variable to `hue` and set `legend=False` for the same effect.\n",
            "\n",
            "  sns.barplot(x=top_categories.index, y=top_categories.values, palette='viridis')\n"
          ]
        },
        {
          "output_type": "display_data",
          "data": {
            "text/plain": [
              "<Figure size 1200x600 with 1 Axes>"
            ],
            "image/png": "[encoded data removed]"
          },
          "metadata": {}
        },
        {
          "output_type": "stream",
          "name": "stderr",
          "text": [
            "<ipython-input-27-626f38816c7f>:10: FutureWarning: \n",
            "\n",
            "Passing `palette` without assigning `hue` is deprecated and will be removed in v0.14.0. Assign the `x` variable to `hue` and set `legend=False` for the same effect.\n",
            "\n",
            "  sns.barplot(x=top_categories.index, y=top_categories.values, palette='viridis')\n"
          ]
        },
        {
          "output_type": "display_data",
          "data": {
            "text/plain": [
              "<Figure size 1200x600 with 1 Axes>"
            ],
            "image/png": "[encoded data removed]"
          },
          "metadata": {}
        }
      ]
    },
    {
      "cell_type": "markdown",
      "source": [
        "Visualisasi di atas adalah grafik distribusi jumlah lagu pada playlist genre dan playlist subgenre."
      ],
      "metadata": {
        "id": "Lzsv2fT82BC-"
      }
    },
    {
      "cell_type": "code",
      "source": [
        "# Visualisasi Distribusi Artis Teratas\n",
        "if 'track_artist' in df.columns:\n",
        "    plt.figure(figsize=(12, 6))\n",
        "    top_artists = df['track_artist'].astype(str).value_counts().nlargest(20)\n",
        "    if not top_artists.empty and top_artists.sum() > 0:\n",
        "        sns.barplot(x=top_artists.index, y=top_artists.values, palette='plasma')\n",
        "        plt.title('Distribusi Top 20 Artis (DataFrame Gabungan)')\n",
        "        plt.xlabel('Artis')\n",
        "        plt.ylabel('Jumlah Lagu')\n",
        "        plt.xticks(rotation=45, ha='right')\n",
        "        plt.tight_layout()\n",
        "        plt.show()\n",
        "    else:\n",
        "         print(\"Tidak ada data valid atau hitungan > 0 untuk membuat plot distribusi artis.\")"
      ],
      "metadata": {
        "colab": {
          "base_uri": "https://localhost:8080/",
          "height": 698
        },
        "id": "PR39YFDCEQiC",
        "outputId": "1e52d432-e375-40a0-f798-e94a08087a84"
      },
      "execution_count": null,
      "outputs": [
        {
          "output_type": "stream",
          "name": "stderr",
          "text": [
            "<ipython-input-28-4f12cdcc0989>:6: FutureWarning: \n",
            "\n",
            "Passing `palette` without assigning `hue` is deprecated and will be removed in v0.14.0. Assign the `x` variable to `hue` and set `legend=False` for the same effect.\n",
            "\n",
            "  sns.barplot(x=top_artists.index, y=top_artists.values, palette='plasma')\n"
          ]
        },
        {
          "output_type": "display_data",
          "data": {
            "text/plain": [
              "<Figure size 1200x600 with 1 Axes>"
            ],
            "image/png": "[encoded data removed]"
          },
          "metadata": {}
        }
      ]
    },
    {
      "cell_type": "markdown",
      "source": [
        "Visualisasi di atas adalah grafik 20 artis teratas berdasarkan jumlah lagu."
      ],
      "metadata": {
        "id": "GPNbvV8w2OAs"
      }
    },
    {
      "cell_type": "code",
      "source": [
        "# Membuat Kombinasi Fitur Tekstual\n",
        "print(\"Membuat fitur tekstual gabungan\")\n",
        "\n",
        "# Menentukan daftar kolom kategorikal/tekstual yang ingin digabungkan\n",
        "text_categorical_cols = [\n",
        "    'track_name', 'track_artist', 'track_album_name', 'playlist_name',\n",
        "    'playlist_genre', 'playlist_subgenre'\n",
        "]\n",
        "\n",
        "# Memfilter kolom yang benar-benar ada di dalam DataFrame 'df'\n",
        "text_categorical_cols_exist = [\n",
        "    col for col in text_categorical_cols\n",
        "    if col in df.columns\n",
        "]\n",
        "\n",
        "if text_categorical_cols_exist:\n",
        "    for col in text_categorical_cols_exist:\n",
        "        df[col] = df[col].astype(str).fillna('')\n",
        "\n",
        "    # Menggabungkan kolom-kolom teks yang ada menjadi satu kolom baru 'text_features'\n",
        "    df['text_features'] = df[text_categorical_cols_exist].agg(' '.join, axis=1)\n",
        "    print(\"Fitur tekstual gabungan berhasil dibuat.\")\n",
        "else:\n",
        "    df['text_features'] = ''\n",
        "    print(\"Peringatan: Tidak ada kolom tekstual yang relevan ditemukan untuk fitur gabungan.\")"
      ],
      "metadata": {
        "colab": {
          "base_uri": "https://localhost:8080/"
        },
        "id": "xz6XuN6nEY6o",
        "outputId": "83b68e33-4f3e-4a42-d85c-756128f2edcc"
      },
      "execution_count": null,
      "outputs": [
        {
          "output_type": "stream",
          "name": "stdout",
          "text": [
            "Membuat fitur tekstual gabungan\n",
            "Fitur tekstual gabungan berhasil dibuat.\n"
          ]
        }
      ]
    },
    {
      "cell_type": "markdown",
      "source": [
        "Blok kode ini bertanggung jawab untuk membuat fitur tekstual gabungan dengan mengumpulkan informasi dari kolom-kolom seperti nama lagu, artis, album, serta genre dan subgenre playlist ke dalam satu kolom baru bernama 'text_features'. Proses ini dimulai dengan mengidentifikasi kolom-kolom tekstual yang benar-benar ada dalam DataFrame, memastikan datanya bertipe string dan mengisi nilai yang hilang dengan string kosong untuk mencegah error, lalu menggabungkan teks dari kolom-kolom yang sudah disiapkan tersebut untuk setiap lagu menjadi satu string panjang di kolom 'text_features', yang hasilnya sangat penting sebagai representasi konten tekstual setiap item dan siap digunakan untuk ekstraksi fitur teks lebih lanjut seperti TF-IDF dalam sistem rekomendasi berbasis konten."
      ],
      "metadata": {
        "id": "fU8mlPxg2ifi"
      }
    },
    {
      "cell_type": "code",
      "source": [
        "# Menggunakan TF-IDF Vectorizer untuk teks\n",
        "print(\"Membuat vektor TF-IDF untuk fitur tekstual\")\n",
        "tfidf = TfidfVectorizer(stop_words='english', max_features=10000)\n",
        "if not df['text_features'].str.strip().empty:\n",
        "    tfidf_matrix = tfidf.fit_transform(df['text_features'])\n",
        "    print(f\"Dimensi matriks TF-IDF: {tfidf_matrix.shape}\")\n",
        "else:\n",
        "     print(\"Peringatan: Fitur tekstual gabungan kosong. TF-IDF matrix tidak dibuat.\")\n",
        "     tfidf_matrix = np.zeros((len(df), 0))\n",
        "     print(f\"Dimensi matriks TF-IDF (kosong): {tfidf_matrix.shape}\")"
      ],
      "metadata": {
        "colab": {
          "base_uri": "https://localhost:8080/"
        },
        "id": "2SvS9LfvFCpv",
        "outputId": "68c39872-2d20-43f5-b87e-4afa587fcb58"
      },
      "execution_count": null,
      "outputs": [
        {
          "output_type": "stream",
          "name": "stdout",
          "text": [
            "Membuat vektor TF-IDF untuk fitur tekstual\n",
            "Dimensi matriks TF-IDF: (4788, 10000)\n"
          ]
        }
      ]
    },
    {
      "cell_type": "markdown",
      "source": [
        "Blok kode ini bertanggung jawab untuk mengubah fitur tekstual gabungan dari kolom 'text_features' menjadi representasi numerik menggunakan metode TF-IDF (Term Frequency-Inverse Document Frequency). Ini dilakukan dengan menginisialisasi TfidfVectorizer dari scikit-learn yang dikonfigurasi untuk mengabaikan kata-kata umum dalam bahasa Inggris (stopwords) dan membatasi jumlah fitur (kata unik) hingga max_features tertentu (dalam contoh ini 10000), kemudian memproses teks dari setiap lagu untuk menghasilkan matriks tfidf_matrix. Matriks sparse ini secara efisien merepresentasikan pentingnya setiap kata dalam konteks setiap lagu dan seluruh dataset, menjadikannya komponen penting dari vektor konten yang siap untuk perhitungan kemiripan, dengan tambahan pengecekan untuk menangani kasus jika kolom teks gabungan ternyata kosong."
      ],
      "metadata": {
        "id": "r3vW11cA2u_A"
      }
    },
    {
      "cell_type": "code",
      "source": [
        "# Memilih dan Menskalakan Fitur Numerik (Fitur Audio & Popularitas)\n",
        "numeric_cols_exist = df.select_dtypes(include=np.number).columns.tolist()\n",
        "numeric_data = df[numeric_cols_exist]"
      ],
      "metadata": {
        "id": "QpbMONCAFKeM"
      },
      "execution_count": null,
      "outputs": []
    },
    {
      "cell_type": "markdown",
      "source": [
        "Blok kode ini bertujuan untuk secara otomatis mengidentifikasi dan mengisolasi semua fitur-fitur yang memiliki tipe data numerik (yang mencakup fitur audio, popularitas, dll.) dari DataFrame utama df. Ini dilakukan dengan menggunakan metode df.select_dtypes(include=np.number) yang secara efisien memilih kolom-kolom berbasis angka, menyimpan nama-nama kolom yang ditemukan dalam daftar numeric_cols_exist, dan kemudian membuat sebuah DataFrame baru bernama numeric_data yang hanya berisi data dari kolom-kolom numerik terpilih tersebut, menjadikannya siap untuk langkah pemrosesan selanjutnya seperti penskalaan yang krusial dalam pembentukan vektor fitur konten untuk perhitungan kemiripan."
      ],
      "metadata": {
        "id": "XaqaGJ0Z243B"
      }
    },
    {
      "cell_type": "code",
      "source": [
        "# Menskalakan fitur numerik\n",
        "scaler = StandardScaler()\n",
        "scaled_numeric_features = scaler.fit_transform(numeric_data)\n",
        "print(\"Fitur numerik berhasil diskalakan.\")"
      ],
      "metadata": {
        "colab": {
          "base_uri": "https://localhost:8080/"
        },
        "id": "xWA1O6kJFj0Q",
        "outputId": "811e1d92-08ee-4376-8eec-56a2818a98c9"
      },
      "execution_count": null,
      "outputs": [
        {
          "output_type": "stream",
          "name": "stdout",
          "text": [
            "Fitur numerik berhasil diskalakan.\n"
          ]
        }
      ]
    },
    {
      "cell_type": "markdown",
      "source": [
        "Blok kode ini menjalankan proses skalasi standar pada fitur-fitur numerik yang telah diisolasi (numeric_data) menggunakan StandardScaler dari scikit-learn."
      ],
      "metadata": {
        "id": "YUj3Wcv92-Um"
      }
    },
    {
      "cell_type": "code",
      "source": [
        "# Menggabungkan Fitur Tekstual (TF-IDF) dan Numerik (Scaled)\n",
        "print(\"Menggabungkan fitur tekstual dan numerik\")\n",
        "if tfidf_matrix.shape[0] == scaled_numeric_features.shape[0]:\n",
        "     combined_features = hstack([tfidf_matrix, scaled_numeric_features])\n",
        "     print(f\"Dimensi matriks fitur gabungan: {combined_features.shape}\")\n",
        "     print(\"Fitur gabungan berhasil dibuat.\")\n",
        "else:\n",
        "     print(\"ERROR: Jumlah baris matriks tekstual dan numerik tidak cocok! Tidak dapat menggabungkan fitur.\")\n",
        "     combined_features = None # Set None jika gagal digabung"
      ],
      "metadata": {
        "colab": {
          "base_uri": "https://localhost:8080/"
        },
        "id": "s9BBy5TYFoYH",
        "outputId": "44a2e02d-c8f3-42d3-e452-c7a755a82570"
      },
      "execution_count": null,
      "outputs": [
        {
          "output_type": "stream",
          "name": "stdout",
          "text": [
            "Menggabungkan fitur tekstual dan numerik\n",
            "Dimensi matriks fitur gabungan: (4788, 10014)\n",
            "Fitur gabungan berhasil dibuat.\n"
          ]
        }
      ]
    },
    {
      "cell_type": "markdown",
      "source": [
        "Kode ini secara singkat menggabungkan representasi fitur tekstual TF-IDF (tfidf_matrix) dengan fitur numerik yang sudah diskalakan (scaled_numeric_features) menggunakan scipy.sparse.hstack, menumpuknya secara horizontal untuk membentuk vektor fitur gabungan tunggal per lagu bernama combined_features, setelah terlebih dahulu memastikan bahwa kedua matriks memiliki jumlah baris (jumlah lagu) yang sama, yang mana hasil gabungan ini merupakan representasi konten akhir setiap lagu yang akan digunakan untuk menghitung kemiripan antar item."
      ],
      "metadata": {
        "id": "kDTunbfU3MxZ"
      }
    },
    {
      "cell_type": "code",
      "source": [
        "# Simpan ID lagu dan mapping index untuk memudahkan lookup nanti\n",
        "print(\"\\nPembuatan ID Internal & Mapping\")\n",
        "id_col = None\n",
        "if 'track_id' in df.columns and df['track_id'].notna().all():\n",
        "    id_col = 'track_id'\n",
        "    print(\"Menggunakan 'track_id' sebagai basis ID lagu.\")\n",
        "elif 'id' in df.columns and df['id'].notna().all():\n",
        "     id_col = 'id'\n",
        "     print(\"Menggunakan 'id' sebagai basis ID lagu (karena 'track_id' tidak tersedia/lengkap).\")\n",
        "else:\n",
        "    df['generated_id'] = df.index.astype(str)\n",
        "    id_col = 'generated_id'\n",
        "    print(\"Peringatan: Tidak ada kolom ID unik yang jelas. Menggunakan index DataFrame sebagai basis ID lagu ('generated_id').\")"
      ],
      "metadata": {
        "colab": {
          "base_uri": "https://localhost:8080/"
        },
        "id": "QCAmaGmFFqdQ",
        "outputId": "159f2399-7ebd-43df-df8b-4d18a9a1d385"
      },
      "execution_count": null,
      "outputs": [
        {
          "output_type": "stream",
          "name": "stdout",
          "text": [
            "\n",
            "Pembuatan ID Internal & Mapping\n",
            "Menggunakan 'track_id' sebagai basis ID lagu.\n"
          ]
        }
      ]
    },
    {
      "cell_type": "markdown",
      "source": [
        "Kode ini berfungsi untuk secara otomatis memilih atau membuat kolom identifikasi unik (ID) untuk setiap lagu dalam DataFrame, yang krusial untuk menghubungkan hasil perhitungan kemiripan (berdasarkan index numerik) kembali ke informasi lagu yang relevan. Proses ini secara berurutan memeriksa apakah kolom 'track_id' atau 'id' tersedia dan lengkap untuk dijadikan basis ID; jika tidak ada yang cocok, akan membuat kolom ID baru 'generated_id' berdasarkan index DataFrame; pada akhirnya, nama kolom ID yang dipilih atau dibuat disimpan dalam variabel id_col, memastikan setiap lagu memiliki pengenal yang handal untuk keperluan mapping dan lookup rekomendasi."
      ],
      "metadata": {
        "id": "SXMDF5wA3TZS"
      }
    },
    {
      "cell_type": "code",
      "source": [
        "# Membuat ID internal unik dan hashable\n",
        "df['song_id_internal'] = df.index.astype(str) + \"_\" + df[id_col].astype(str)\n",
        "song_ids = df['song_id_internal'].tolist()"
      ],
      "metadata": {
        "id": "rPwTotLQFvlM"
      },
      "execution_count": null,
      "outputs": []
    },
    {
      "cell_type": "markdown",
      "source": [
        "Kode ini secara membuat ID internal unik per lagu dengan menggabungkan index DataFrame dan ID basis yang dipilih (id_col) menjadi kolom baru 'song_id_internal', lalu mengubah kolom ini menjadi daftar song_ids, memastikan setiap lagu memiliki pengenal tunggal yang pasti unik dan siap digunakan untuk pembuatan mapping index ke fitur gabungan."
      ],
      "metadata": {
        "id": "j-kQVUvN3qhf"
      }
    },
    {
      "cell_type": "code",
      "source": [
        "# Membuat mapping dari ID lagu ke index dalam matriks fitur\n",
        "id_to_index = {song_id: index for index, song_id in enumerate(song_ids)}\n",
        "index_to_id = {index: song_id for index, song_id in enumerate(song_ids)}\n",
        "print(\"Pembuatan ID internal dan mapping selesai.\")"
      ],
      "metadata": {
        "colab": {
          "base_uri": "https://localhost:8080/"
        },
        "id": "AyFTo8J0Fy26",
        "outputId": "19fa3fa5-c9ab-40b7-fb1b-1c235446cc41"
      },
      "execution_count": null,
      "outputs": [
        {
          "output_type": "stream",
          "name": "stdout",
          "text": [
            "Pembuatan ID internal dan mapping selesai.\n"
          ]
        }
      ]
    },
    {
      "cell_type": "markdown",
      "source": [
        "Kode ini menyelesaikan tahap persiapan data dengan membuat mapping antara ID internal unik setiap lagu (song_ids) dan index numerik (posisi) mereka dalam matriks fitur gabungan serta matriks kemiripan. Dua kamus, id_to_index yang memetakan ID ke index dan index_to_id yang memetakan index kembali ke ID lagu, dibuat menggunakan list song_ids. Mappings ini sangat penting karena matriks-matriks tersebut diakses menggunakan index numerik, sehingga mapping ini menjembatani ID lagu yang mudah dikenali dengan lokasi data yang sebenarnya, memungkinkan sistem rekomendasi untuk mencari dan mengidentifikasi lagu dengan efisien."
      ],
      "metadata": {
        "id": "oZ0Y4x8432zz"
      }
    },
    {
      "cell_type": "markdown",
      "source": [
        "## Modelling"
      ],
      "metadata": {
        "id": "LhbC7s5cysMr"
      }
    },
    {
      "cell_type": "code",
      "source": [
        "similarity_matrix = None # Inisialisasi\n",
        "\n",
        "if combined_features is not None and combined_features.shape[1] > 0:\n",
        "    print(\"Menghitung Cosine Similarity antar lagu\")\n",
        "    try:\n",
        "        similarity_matrix = cosine_similarity(combined_features)\n",
        "        print(f\"Dimensi matriks kemiripan: {similarity_matrix.shape}\")\n",
        "        print(\"Matriks kemiripan berhasil dihitung.\")\n",
        "    except Exception as e:\n",
        "        print(f\"ERROR saat menghitung matriks kemiripan: {e}\")\n",
        "        print(\"Tidak dapat melanjutkan ke tahap rekomendasi.\")\n",
        "else:\n",
        "    print(\"Tidak dapat menghitung matriks kemiripan karena fitur gabungan tidak dibuat atau kosong.\")"
      ],
      "metadata": {
        "colab": {
          "base_uri": "https://localhost:8080/"
        },
        "id": "MSYLeKEtF385",
        "outputId": "1a52d929-c8e8-4f7f-daec-91d4cba16968"
      },
      "execution_count": null,
      "outputs": [
        {
          "output_type": "stream",
          "name": "stdout",
          "text": [
            "Menghitung Cosine Similarity antar lagu\n",
            "Dimensi matriks kemiripan: (4788, 4788)\n",
            "Matriks kemiripan berhasil dihitung.\n"
          ]
        }
      ]
    },
    {
      "cell_type": "markdown",
      "source": [
        "Model ini menggunakan pendekatan Content-Based. Inti dari pemodelan Content-based, blok kode ini menghitung matriks kemiripan antar lagu menggunakan cosine_similarity dari scikit-learn pada fitur gabungan (combined_features) yang telah disiapkan, menghasilkan similarity_matrix yang akan dipakai untuk mencari rekomendasi, setelah terlebih dahulu memeriksa apakah fitur gabungan tersebut valid."
      ],
      "metadata": {
        "id": "io6e79tz4DNn"
      }
    },
    {
      "cell_type": "code",
      "source": [
        "# Fungsi Rekomendasi\n",
        "def get_content_based_recommendations(song_id, similarity_matrix, id_to_index, index_to_id, df, num_recommendations=10):\n",
        "    \"\"\"\n",
        "    Memberikan rekomendasi lagu berdasarkan kemiripan konten.\n",
        "\n",
        "    Args:\n",
        "        song_id (str/int): ID dari lagu yang menjadi dasar rekomendasi (dari kolom 'song_id_internal').\n",
        "        similarity_matrix (np.array or sparse matrix): Matriks kemiripan antar item.\n",
        "        id_to_index (dict): Mapping dari ID lagu ke index baris/kolom di matriks kemiripan.\n",
        "        index_to_id (dict): Mapping dari index baris/kolom di matriks kemiripan ke ID lagu.\n",
        "        df (pd.DataFrame): DataFrame asli berisi informasi lagu (termasuk 'song_id_internal').\n",
        "        num_recommendations (int): Jumlah rekomendasi yang diinginkan.\n",
        "\n",
        "    Returns:\n",
        "        pd.DataFrame: DataFrame berisi rekomendasi lagu (kecuali lagu input itu sendiri).\n",
        "                      Mengandung kolom 'song_id_internal', 'track_name', 'track_artist',\n",
        "                      'playlist_genre', 'playlist_subgenre', 'Similarity_Score'.\n",
        "                      Mengembalikan DataFrame kosong jika ID lagu tidak ditemukan atau similarity matrix kosong.\n",
        "    \"\"\"\n",
        "    if similarity_matrix is None:\n",
        "        print(\"Error: Similarity matrix belum dibuat.\")\n",
        "        return pd.DataFrame(columns=['song_id_internal', 'track_name', 'track_artist', 'playlist_genre', 'playlist_subgenre', 'Similarity_Score'])\n",
        "\n",
        "    if song_id not in id_to_index:\n",
        "        print(f\"Error: ID lagu '{song_id}' tidak ditemukan dalam mapping ID ke index.\")\n",
        "        return pd.DataFrame(columns=['song_id_internal', 'track_name', 'track_artist', 'playlist_genre', 'playlist_subgenre', 'Similarity_Score'])\n",
        "\n",
        "    idx = id_to_index[song_id]\n",
        "    similarity_scores = similarity_matrix[idx].flatten()\n",
        "\n",
        "    song_scores = list(enumerate(similarity_scores))\n",
        "    song_scores = sorted(song_scores, key=lambda x: x[1], reverse=True)[1 : num_recommendations + 1]\n",
        "\n",
        "    recommended_indices = [i[0] for i in song_scores]\n",
        "    recommendation_scores = [i[1] for i in song_scores]\n",
        "\n",
        "    recommended_song_ids = [index_to_id[i] for i in recommended_indices]\n",
        "\n",
        "    # Mengambil informasi lagu yang direkomendasikan dari DataFrame asli\n",
        "    if 'song_id_internal' in df.columns:\n",
        "        recommended_songs_info = df[df['song_id_internal'].isin(recommended_song_ids)].copy()\n",
        "    else:\n",
        "         print(\"Peringatan: Kolom 'song_id_internal' tidak ditemukan di DataFrame asli saat mengambil info rekomendasi.\")\n",
        "         return pd.DataFrame(columns=['song_id_internal', 'track_name', 'track_artist', 'playlist_genre', 'playlist_subgenre', 'Similarity_Score'])\n",
        "\n",
        "    scores_df = pd.DataFrame({'song_id_internal': recommended_song_ids, 'Similarity_Score': recommendation_scores})\n",
        "\n",
        "    recommended_songs_info = pd.merge(\n",
        "        recommended_songs_info,\n",
        "        scores_df,\n",
        "        on='song_id_internal',\n",
        "        how='left'\n",
        "    ).sort_values(by='Similarity_Score', ascending=False)\n",
        "\n",
        "    output_cols = ['song_id_internal', 'track_name', 'track_artist', 'playlist_genre', 'playlist_subgenre', 'Similarity_Score']\n",
        "    output_cols_exist = [col for col in output_cols if col in recommended_songs_info.columns]\n",
        "\n",
        "    return recommended_songs_info[output_cols_exist]"
      ],
      "metadata": {
        "id": "pFO-ih6PGDt9"
      },
      "execution_count": null,
      "outputs": []
    },
    {
      "cell_type": "markdown",
      "source": [
        "Fungsi get_content_based_recommendations bertindak sebagai mesin rekomendasi utama: fungsi ini menerima ID lagu input, menggunakan matriks kemiripan (similarity_matrix) dan mapping yang relevan untuk menemukan lagu-lagu yang paling mirip berdasarkan konten, dan mengembalikan daftar Top-N lagu rekomendasi beserta skor kemiripannya dalam bentuk DataFrame yang siap disajikan."
      ],
      "metadata": {
        "id": "rmCNDiNX4S8z"
      }
    },
    {
      "cell_type": "markdown",
      "source": [
        "## Evaluation"
      ],
      "metadata": {
        "id": "jgiRH1oKyt7h"
      }
    },
    {
      "cell_type": "code",
      "execution_count": null,
      "metadata": {
        "colab": {
          "base_uri": "https://localhost:8080/"
        },
        "id": "mdXbvwAtyMcU",
        "outputId": "66f75ee8-c80e-4f0a-c55c-9803aec7ac94"
      },
      "outputs": [
        {
          "output_type": "stream",
          "name": "stdout",
          "text": [
            "Melakukan demonstrasi sistem rekomendasi\n",
            "Memilih 5 lagu contoh untuk demonstrasi:\n",
            "\n",
            "--- Rekomendasi untuk Lagu Input (Index: 0) ---\n",
            "ID Internal: 0_2plbrEY59IikOBgBGLjaoe\n",
            "Track Name: 'Die With A Smile'\n",
            "Track Artist: 'Lady Gaga, Bruno Mars'\n",
            "Playlist Genre: 'pop'\n",
            "Playlist Subgenre: 'mainstream'\n",
            "Fitur Audio (contoh): Danceability=0.52, Energy=0.59, Tempo=157.97, Loudness=-7.78\n",
            "\n",
            "Rekomendasi (Top 5):\n",
            "              song_id_internal        track_name           track_artist playlist_genre playlist_subgenre  Similarity_Score\n",
            "0   455_2plbrEY59IikOBgBGLjaoe  Die With A Smile  Lady Gaga, Bruno Mars         gaming            modern          0.991571\n",
            "1   676_2plbrEY59IikOBgBGLjaoe  Die With A Smile  Lady Gaga, Bruno Mars            pop            global          0.990805\n",
            "3   810_6Qyc6fS4DsZjB2mRW9DsQs              Iris      The Goo Goo Dolls            pop              soft          0.818637\n",
            "2   715_6Qyc6fS4DsZjB2mRW9DsQs              Iris      The Goo Goo Dolls            pop            global          0.817015\n",
            "4  1066_6Qyc6fS4DsZjB2mRW9DsQs              Iris      The Goo Goo Dolls           rock       alternative          0.816317\n",
            "\n",
            "--- Rekomendasi untuk Lagu Input (Index: 1197) ---\n",
            "ID Internal: 1197_5EQzuYfTZt7B2LqlvTF49l\n",
            "Track Name: 'It's All Coming Back to Me Now'\n",
            "Track Artist: 'Céline Dion'\n",
            "Playlist Genre: 'blues'\n",
            "Playlist Subgenre: 'classic'\n",
            "Fitur Audio (contoh): Danceability=0.38, Energy=0.44, Tempo=87.90, Loudness=-9.15\n",
            "\n",
            "Rekomendasi (Top 5):\n",
            "              song_id_internal                                                                                                                                  track_name                                                                                                                                                                     track_artist playlist_genre playlist_subgenre  Similarity_Score\n",
            "3  1729_4Dcm4KMuDz0l01weeSpD4J  Prince Igor (Knyaz Igor): Act II: Polovtsian Dances - Ulyetay na kril'yahk vyetra (Fly away on the wings of the wind) (version for chorus)  Alexander Borodin, Angelina Shvachka, Dmytro Popov, Mykola Koval, Taras Shtonda, Mykola Hobdych, Kiev Chamber Choir, Ukraine National Radio Symphony Orchestra, Theodore Kuchar      classical         essential          0.832395\n",
            "2  1528_1NZs6n6hl8UuMaX0UC0YTz                                                                                                                               Brooklyn Baby                                                                                                                                                                     Lana Del Rey        ambient          academic          0.830534\n",
            "0   311_3hkC9EHFZNQPXrtl8WPHnX                                                                                                                           Agar Tum Saath Ho                                                                                                                                                        Alka Yagnik, Arijit Singh         indian         bollywood          0.803648\n",
            "4  1738_2OHnoGjn6X6kDwzO7Rw0Y9                                                                                                                   The Sorcerer's Apprentice                                                                                                                                               Paul Dukas, Philharmonia Orchestra      classical         essential          0.785551\n",
            "1  1519_04mAOoQNsXmDJlyupJwmkO                                                                                                                                Waiting Room                                                                                                                                                                  Phoebe Bridgers        ambient          academic          0.774375\n",
            "\n",
            "--- Rekomendasi untuk Lagu Input (Index: 2394) ---\n",
            "ID Internal: 2394_7yKjDDd9w01nFEOD5adoHq\n",
            "Track Name: 'Do I - Remix'\n",
            "Track Artist: 'Phyno, Burna Boy'\n",
            "Playlist Genre: 'arabic'\n",
            "Playlist Subgenre: 'modern'\n",
            "Fitur Audio (contoh): Danceability=0.85, Energy=0.82, Tempo=113.02, Loudness=-7.04\n",
            "\n",
            "Rekomendasi (Top 5):\n",
            "              song_id_internal            track_name                  track_artist playlist_genre playlist_subgenre  Similarity_Score\n",
            "0   784_5ZtK8XAVnoaGdBXZWCEVCY     Lonely At The Top                         Asake         arabic            modern          0.820534\n",
            "1  1484_5ZtK8XAVnoaGdBXZWCEVCY     Lonely At The Top                         Asake        ambient        meditative          0.800766\n",
            "4  4336_4RlWqAjKp9OcLaY49FtBEZ              Tchikita                           Jul     electronic            french          0.774950\n",
            "2  2290_0EqCLk5naTfUvWnGBbCXcI        Canada - Remix  Magnito, Olamide, Wizzy Flon         arabic            modern          0.770134\n",
            "3  2327_40q38o0RyEBtbidicwvfhm  M.A.D (feat. MohBad)          Zoro Swagbag, Mohbad         arabic            modern          0.763788\n",
            "\n",
            "--- Rekomendasi untuk Lagu Input (Index: 3591) ---\n",
            "ID Internal: 3591_7A1uziu96JlZBqgbYnx3VE\n",
            "Track Name: 'Tranquillo'\n",
            "Track Artist: 'Escix V'\n",
            "Playlist Genre: 'wellness'\n",
            "Playlist Subgenre: 'yoga'\n",
            "Fitur Audio (contoh): Danceability=0.15, Energy=0.01, Tempo=136.38, Loudness=-37.56\n",
            "\n",
            "Rekomendasi (Top 5):\n",
            "              song_id_internal  track_name    track_artist playlist_genre playlist_subgenre  Similarity_Score\n",
            "4  3624_4jS79eUku1DjatFHoM06Xd      Sanyog  Aasmi Jayavant       wellness              yoga          0.979203\n",
            "0  3489_4TGVSsk5tV5rPA2eZ5QW2s      Echoes     Leya Watson        ambient             chill          0.957565\n",
            "2  3555_4a20vranOH3ic2txQ463jc      Desear   Julia Alvarez       wellness              yoga          0.949875\n",
            "1  3530_4OgLtqCE1dMYnEdcgZ0ZSS    Timeless        Elm Lake        ambient             chill          0.926934\n",
            "3  3588_6uSzJ1maVPTAkGS9YdLIQy  Aspiration  Silent Motions       wellness              yoga          0.925059\n",
            "\n",
            "--- Rekomendasi untuk Lagu Input (Index: 4787) ---\n",
            "ID Internal: 4787_0HmenrANrrNVi8244GsYB5\n",
            "Track Name: 'Nagumomu - Abheri - Adi - Live'\n",
            "Track Artist: 'Sudha Ragunathan'\n",
            "Playlist Genre: 'indian'\n",
            "Playlist Subgenre: 'classical'\n",
            "Fitur Audio (contoh): Danceability=0.27, Energy=0.82, Tempo=170.94, Loudness=-3.81\n",
            "\n",
            "Rekomendasi (Top 5):\n",
            "              song_id_internal                  track_name                     track_artist playlist_genre playlist_subgenre  Similarity_Score\n",
            "4  4780_7v3j5zBQ2VeLwr3u89mXVo  Jaya Jaya - Dhanyasi - Adi  Tyagaraja, M. Balamuralikrishna         indian         classical          0.875164\n",
            "1  3815_7mQhKQYG3PHWpyoU37A2r7            Worship Medley I                  Okunade Adedeji         gospel            modern          0.874837\n",
            "2  3820_6dXxFo30WqVtwWPHulA52c           Worship Medley II                  Okunade Adedeji         gospel            modern          0.826738\n",
            "3  3834_5z8u1GwA8J7dBx1zMpfrjW               I Get Backing                  Victoria Orenze         gospel            modern          0.819266\n",
            "0  3811_2TfDq6YUBAiX09xTlH2bhX         Worthy of My Praise     Dunsin Oyekan, Lawrence Oyor         gospel           african          0.810681\n"
          ]
        }
      ],
      "source": [
        "if similarity_matrix is not None and not df.empty:\n",
        "    print(\"Melakukan demonstrasi sistem rekomendasi\")\n",
        "\n",
        "    example_indices_raw = [0, len(df) // 4, len(df) // 2, len(df) * 3 // 4, len(df) - 1]\n",
        "    example_song_indices = [idx for idx in example_indices_raw if 0 <= idx < len(df)]\n",
        "    example_song_indices = list(set(example_song_indices))\n",
        "    example_song_indices.sort()\n",
        "\n",
        "    print(f\"Memilih {len(example_song_indices)} lagu contoh untuk demonstrasi:\")\n",
        "\n",
        "    info_cols_exist = ['track_name', 'track_artist', 'playlist_genre', 'playlist_subgenre']\n",
        "    info_cols_exist = [col for col in info_cols_exist if col in df.columns]\n",
        "    audio_feature_display_cols = ['danceability', 'energy', 'tempo', 'loudness']\n",
        "    audio_feature_display_cols_exist = [col for col in audio_feature_display_cols if col in df.columns]\n",
        "\n",
        "\n",
        "    for idx in example_song_indices:\n",
        "        example_song_id = df.iloc[idx]['song_id_internal']\n",
        "        original_song_info = df.iloc[idx]\n",
        "\n",
        "        print(f\"\\n--- Rekomendasi untuk Lagu Input (Index: {idx}) ---\")\n",
        "        print(f\"ID Internal: {example_song_id}\")\n",
        "\n",
        "        for col in info_cols_exist:\n",
        "            print(f\"{col.replace('_', ' ').title()}: '{original_song_info.get(col, 'N/A')}'\")\n",
        "\n",
        "        if audio_feature_display_cols_exist:\n",
        "             audio_info_str = \", \".join([f\"{col.replace('_', ' ').title()}={original_song_info.get(col, np.nan):.2f}\" for col in audio_feature_display_cols_exist])\n",
        "             print(f\"Fitur Audio (contoh): {audio_info_str}\")\n",
        "\n",
        "        recommendations = get_content_based_recommendations(example_song_id, similarity_matrix, id_to_index, index_to_id, df, num_recommendations=5)\n",
        "\n",
        "        print(\"\\nRekomendasi (Top 5):\")\n",
        "        if not recommendations.empty:\n",
        "            print(recommendations.to_string())\n",
        "\n",
        "        else:\n",
        "            print(\"Tidak ada rekomendasi ditemukan untuk lagu ini.\")\n",
        "\n",
        "else:\n",
        "    print(\"Tidak dapat melakukan evaluasi karena matriks kemiripan tidak berhasil dibuat atau dataset kosong.\")"
      ]
    },
    {
      "cell_type": "markdown",
      "source": [
        "Evaluasi sistem rekomendasi ini dirancang untuk mengukur seberapa efektif model Content-based Filtering dalam merekomendasikan lagu-lagu yang relevan. Mengingat ketiadaan data interaksi pengguna eksplisit, proyek ini menggunakan evaluasi kualitatif berbasis konten. ami memilih beberapa lagu contoh dari dataset, yang merepresentasikan berbagai genre dan karakteristik audio. Untuk setiap lagu contoh, sistem rekomendasi dijalankan untuk menghasilkan daftar Top-N lagu yang paling mirip. Hasil rekomendasi ini kemudian dianalisis secara deskriptif. Analisis ini melibatkan pemeriksaan kesamaan pada metadata tekstual (seperti genre, subgenre, artis, dan nama lagu) serta fitur audio (seperti danceability, energy, tempo, dan loudness) antara lagu input dan lagu-lagu yang direkomendasikan. Selain itu, nilai Similarity Score (Cosine Similarity) yang tinggi pada rekomendasi menjadi indikator kuat kemiripan konten yang diukur oleh model. Metrik ini bertujuan untuk memahami mengapa rekomendasi tersebut relevan dari perspektif konten, dan secara langsung selaras dengan tujuan proyek untuk \"Menghasilkan Rekomendasi yang Relevan\" dan \"Melakukan Evaluasi Kualitatif\".\n",
        "\n",
        "Hasil evaluasi kualitatif berbasis konten sebagai contoh, ketika lagu input 'Tranquillo' oleh Escix V (Genre: 'wellness', Subgenre: 'yoga', dengan fitur audio seperti Danceability 0.15, Energy 0.01, Loudness -37.56) diberikan kepada sistem, rekomendasi Top 5 yang dihasilkan menunjukkan relevansi yang kuat seperti pada output sel di atas. Analisis menunjukkan bahwa rekomendasi didominasi oleh lagu-lagu dari genre 'wellness' dan 'ambient' dengan subgenre terkait seperti 'yoga' dan 'chill'. Ini secara langsung mencerminkan genre dan subgenre dari lagu input, membuktikan kemampuan sistem dalam menangkap kemiripan berdasarkan metadata tekstual/kategorikal. Selain itu, skor kemiripan (Similarity Score) yang sangat tinggi (0.925 hingga 0.979) mengindikasikan bahwa model menganggap lagu-lagu ini sangat dekat dengan lagu input di ruang fitur gabungan, termasuk fitur audio yang diskalakan. Hal ini menunjukkan sistem berhasil menemukan lagu-lagu dengan karakteristik \"rasa\" atau suara yang mirip."
      ],
      "metadata": {
        "id": "w3LNaF8X41UG"
      }
    },
    {
      "cell_type": "code",
      "source": [],
      "metadata": {
        "id": "NmQk9sO69eD1"
      },
      "execution_count": null,
      "outputs": []
    }
  ]
}